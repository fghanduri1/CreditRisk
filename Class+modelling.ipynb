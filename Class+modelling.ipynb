{
 "cells": [
  {
   "cell_type": "code",
   "execution_count": 1,
   "metadata": {},
   "outputs": [],
   "source": [
    "\n",
    "# Importing the libraries\n",
    "import numpy as np # linear algebra\n",
    "import pandas as pd # data processing, CSV file I/O (e.g. pd.read_csv)\n",
    "import matplotlib.pyplot as plt\n",
    "import os\n",
    "\n",
    "\n",
    "import seaborn as sns\n",
    "from subprocess import check_output\n",
    "# Reading the dataset\n",
    "#data = pd.read_csv(\"loan.csv\", \"r\")\n",
    "#data_1 = pd.DataFrame(data) # Creating a copy\n",
    "\n",
    "from sklearn.model_selection import train_test_split\n",
    "from sklearn.metrics import accuracy_score\n",
    "data = open('phase2Data4.csv',\"r\")\n",
    "#loan = pd.read_csv(data)\n",
    "#data_1 = pd.DataFrame(data) # Creating a copy"
   ]
  },
  {
   "cell_type": "code",
   "execution_count": 2,
   "metadata": {},
   "outputs": [],
   "source": [
    "loan = pd.read_csv(data)"
   ]
  },
  {
   "cell_type": "code",
   "execution_count": 3,
   "metadata": {},
   "outputs": [
    {
     "data": {
      "text/html": [
       "<div>\n",
       "<style scoped>\n",
       "    .dataframe tbody tr th:only-of-type {\n",
       "        vertical-align: middle;\n",
       "    }\n",
       "\n",
       "    .dataframe tbody tr th {\n",
       "        vertical-align: top;\n",
       "    }\n",
       "\n",
       "    .dataframe thead th {\n",
       "        text-align: right;\n",
       "    }\n",
       "</style>\n",
       "<table border=\"1\" class=\"dataframe\">\n",
       "  <thead>\n",
       "    <tr style=\"text-align: right;\">\n",
       "      <th></th>\n",
       "      <th>ï»¿id</th>\n",
       "      <th>member_id</th>\n",
       "      <th>loan_amnt</th>\n",
       "      <th>funded_amnt</th>\n",
       "      <th>funded_amnt_inv</th>\n",
       "      <th>term</th>\n",
       "      <th>int_rate</th>\n",
       "      <th>installment</th>\n",
       "      <th>grade</th>\n",
       "      <th>sub_grade</th>\n",
       "      <th>...</th>\n",
       "      <th>percent_bc_gt_75</th>\n",
       "      <th>pub_rec_bankruptcies</th>\n",
       "      <th>tax_liens</th>\n",
       "      <th>tot_hi_cred_lim</th>\n",
       "      <th>total_bal_ex_mort</th>\n",
       "      <th>total_bc_limit</th>\n",
       "      <th>total_il_high_credit_limit</th>\n",
       "      <th>hardship_flag</th>\n",
       "      <th>disbursement_method</th>\n",
       "      <th>debt_settlement_flag</th>\n",
       "    </tr>\n",
       "  </thead>\n",
       "  <tbody>\n",
       "    <tr>\n",
       "      <th>0</th>\n",
       "      <td>NaN</td>\n",
       "      <td>NaN</td>\n",
       "      <td>40000</td>\n",
       "      <td>40000</td>\n",
       "      <td>40000.0</td>\n",
       "      <td>60 months</td>\n",
       "      <td>10.90</td>\n",
       "      <td>867.71</td>\n",
       "      <td>B</td>\n",
       "      <td>B4</td>\n",
       "      <td>...</td>\n",
       "      <td>50.0</td>\n",
       "      <td>0</td>\n",
       "      <td>0</td>\n",
       "      <td>540677</td>\n",
       "      <td>99792</td>\n",
       "      <td>58700</td>\n",
       "      <td>94255</td>\n",
       "      <td>N</td>\n",
       "      <td>Cash</td>\n",
       "      <td>N</td>\n",
       "    </tr>\n",
       "    <tr>\n",
       "      <th>1</th>\n",
       "      <td>NaN</td>\n",
       "      <td>NaN</td>\n",
       "      <td>15000</td>\n",
       "      <td>15000</td>\n",
       "      <td>15000.0</td>\n",
       "      <td>36 months</td>\n",
       "      <td>11.98</td>\n",
       "      <td>498.08</td>\n",
       "      <td>B</td>\n",
       "      <td>B5</td>\n",
       "      <td>...</td>\n",
       "      <td>0.0</td>\n",
       "      <td>0</td>\n",
       "      <td>0</td>\n",
       "      <td>78165</td>\n",
       "      <td>19667</td>\n",
       "      <td>23700</td>\n",
       "      <td>5265</td>\n",
       "      <td>N</td>\n",
       "      <td>Cash</td>\n",
       "      <td>N</td>\n",
       "    </tr>\n",
       "    <tr>\n",
       "      <th>2</th>\n",
       "      <td>NaN</td>\n",
       "      <td>NaN</td>\n",
       "      <td>35000</td>\n",
       "      <td>35000</td>\n",
       "      <td>35000.0</td>\n",
       "      <td>60 months</td>\n",
       "      <td>22.90</td>\n",
       "      <td>984.66</td>\n",
       "      <td>E</td>\n",
       "      <td>E1</td>\n",
       "      <td>...</td>\n",
       "      <td>23.8</td>\n",
       "      <td>0</td>\n",
       "      <td>0</td>\n",
       "      <td>565563</td>\n",
       "      <td>117245</td>\n",
       "      <td>75800</td>\n",
       "      <td>84082</td>\n",
       "      <td>N</td>\n",
       "      <td>Cash</td>\n",
       "      <td>N</td>\n",
       "    </tr>\n",
       "    <tr>\n",
       "      <th>3</th>\n",
       "      <td>NaN</td>\n",
       "      <td>NaN</td>\n",
       "      <td>21500</td>\n",
       "      <td>21500</td>\n",
       "      <td>21500.0</td>\n",
       "      <td>60 months</td>\n",
       "      <td>15.04</td>\n",
       "      <td>511.94</td>\n",
       "      <td>C</td>\n",
       "      <td>C4</td>\n",
       "      <td>...</td>\n",
       "      <td>0.0</td>\n",
       "      <td>0</td>\n",
       "      <td>0</td>\n",
       "      <td>143800</td>\n",
       "      <td>61733</td>\n",
       "      <td>68800</td>\n",
       "      <td>75000</td>\n",
       "      <td>N</td>\n",
       "      <td>Cash</td>\n",
       "      <td>N</td>\n",
       "    </tr>\n",
       "    <tr>\n",
       "      <th>4</th>\n",
       "      <td>NaN</td>\n",
       "      <td>NaN</td>\n",
       "      <td>20400</td>\n",
       "      <td>20400</td>\n",
       "      <td>20400.0</td>\n",
       "      <td>36 months</td>\n",
       "      <td>6.71</td>\n",
       "      <td>627.20</td>\n",
       "      <td>A</td>\n",
       "      <td>A3</td>\n",
       "      <td>...</td>\n",
       "      <td>20.0</td>\n",
       "      <td>0</td>\n",
       "      <td>0</td>\n",
       "      <td>104780</td>\n",
       "      <td>43214</td>\n",
       "      <td>52600</td>\n",
       "      <td>52180</td>\n",
       "      <td>N</td>\n",
       "      <td>Cash</td>\n",
       "      <td>N</td>\n",
       "    </tr>\n",
       "  </tbody>\n",
       "</table>\n",
       "<p>5 rows × 112 columns</p>\n",
       "</div>"
      ],
      "text/plain": [
       "   ï»¿id  member_id  loan_amnt  funded_amnt  funded_amnt_inv       term  \\\n",
       "0    NaN        NaN      40000        40000          40000.0  60 months   \n",
       "1    NaN        NaN      15000        15000          15000.0  36 months   \n",
       "2    NaN        NaN      35000        35000          35000.0  60 months   \n",
       "3    NaN        NaN      21500        21500          21500.0  60 months   \n",
       "4    NaN        NaN      20400        20400          20400.0  36 months   \n",
       "\n",
       "   int_rate  installment grade sub_grade  ... percent_bc_gt_75  \\\n",
       "0     10.90       867.71     B        B4  ...             50.0   \n",
       "1     11.98       498.08     B        B5  ...              0.0   \n",
       "2     22.90       984.66     E        E1  ...             23.8   \n",
       "3     15.04       511.94     C        C4  ...              0.0   \n",
       "4      6.71       627.20     A        A3  ...             20.0   \n",
       "\n",
       "  pub_rec_bankruptcies tax_liens  tot_hi_cred_lim total_bal_ex_mort  \\\n",
       "0                    0         0           540677             99792   \n",
       "1                    0         0            78165             19667   \n",
       "2                    0         0           565563            117245   \n",
       "3                    0         0           143800             61733   \n",
       "4                    0         0           104780             43214   \n",
       "\n",
       "  total_bc_limit total_il_high_credit_limit hardship_flag disbursement_method  \\\n",
       "0          58700                      94255             N                Cash   \n",
       "1          23700                       5265             N                Cash   \n",
       "2          75800                      84082             N                Cash   \n",
       "3          68800                      75000             N                Cash   \n",
       "4          52600                      52180             N                Cash   \n",
       "\n",
       "  debt_settlement_flag  \n",
       "0                    N  \n",
       "1                    N  \n",
       "2                    N  \n",
       "3                    N  \n",
       "4                    N  \n",
       "\n",
       "[5 rows x 112 columns]"
      ]
     },
     "execution_count": 3,
     "metadata": {},
     "output_type": "execute_result"
    }
   ],
   "source": [
    "loan.head()"
   ]
  },
  {
   "cell_type": "code",
   "execution_count": 4,
   "metadata": {},
   "outputs": [],
   "source": [
    "def null_values(loan):\n",
    "        mis_val = loan.isnull().sum()\n",
    "        mis_val_percent = 100 * loan.isnull().sum() / len(loan)\n",
    "        mis_val_table = pd.concat([mis_val, mis_val_percent], axis=1)\n",
    "        mis_val_table_ren_columns = mis_val_table.rename(\n",
    "        columns = {0 : 'Missing Values', 1 : '% of Total Values'})\n",
    "        mis_val_table_ren_columns = mis_val_table_ren_columns[\n",
    "            mis_val_table_ren_columns.iloc[:,1] != 0].sort_values(\n",
    "        '% of Total Values', ascending=False).round(1)\n",
    "        print (\"Dataframe has \" + str(loan.shape[1]) + \" columns.\\n\"      \n",
    "            \"There are \" + str(mis_val_table_ren_columns.shape[0]) +\n",
    "              \" columns that have missing values.\")\n",
    "        return mis_val_table_ren_columns"
   ]
  },
  {
   "cell_type": "code",
   "execution_count": 5,
   "metadata": {},
   "outputs": [
    {
     "name": "stdout",
     "output_type": "stream",
     "text": [
      "Dataframe has 112 columns.\n",
      "There are 38 columns that have missing values.\n"
     ]
    },
    {
     "data": {
      "text/html": [
       "<div>\n",
       "<style scoped>\n",
       "    .dataframe tbody tr th:only-of-type {\n",
       "        vertical-align: middle;\n",
       "    }\n",
       "\n",
       "    .dataframe tbody tr th {\n",
       "        vertical-align: top;\n",
       "    }\n",
       "\n",
       "    .dataframe thead th {\n",
       "        text-align: right;\n",
       "    }\n",
       "</style>\n",
       "<table border=\"1\" class=\"dataframe\">\n",
       "  <thead>\n",
       "    <tr style=\"text-align: right;\">\n",
       "      <th></th>\n",
       "      <th>Missing Values</th>\n",
       "      <th>% of Total Values</th>\n",
       "    </tr>\n",
       "  </thead>\n",
       "  <tbody>\n",
       "    <tr>\n",
       "      <th>ï»¿id</th>\n",
       "      <td>105665</td>\n",
       "      <td>100.0</td>\n",
       "    </tr>\n",
       "    <tr>\n",
       "      <th>member_id</th>\n",
       "      <td>105665</td>\n",
       "      <td>100.0</td>\n",
       "    </tr>\n",
       "    <tr>\n",
       "      <th>verification_status_joint</th>\n",
       "      <td>99971</td>\n",
       "      <td>94.6</td>\n",
       "    </tr>\n",
       "    <tr>\n",
       "      <th>dti_joint</th>\n",
       "      <td>99590</td>\n",
       "      <td>94.3</td>\n",
       "    </tr>\n",
       "    <tr>\n",
       "      <th>annual_inc_joint</th>\n",
       "      <td>99589</td>\n",
       "      <td>94.2</td>\n",
       "    </tr>\n",
       "    <tr>\n",
       "      <th>mths_since_last_record</th>\n",
       "      <td>91660</td>\n",
       "      <td>86.7</td>\n",
       "    </tr>\n",
       "    <tr>\n",
       "      <th>mths_since_recent_bc_dlq</th>\n",
       "      <td>82817</td>\n",
       "      <td>78.4</td>\n",
       "    </tr>\n",
       "    <tr>\n",
       "      <th>mths_since_last_major_derog</th>\n",
       "      <td>78779</td>\n",
       "      <td>74.6</td>\n",
       "    </tr>\n",
       "    <tr>\n",
       "      <th>mths_since_recent_revol_delinq</th>\n",
       "      <td>72796</td>\n",
       "      <td>68.9</td>\n",
       "    </tr>\n",
       "    <tr>\n",
       "      <th>mths_since_last_delinq</th>\n",
       "      <td>56190</td>\n",
       "      <td>53.2</td>\n",
       "    </tr>\n",
       "    <tr>\n",
       "      <th>next_pymnt_d</th>\n",
       "      <td>45217</td>\n",
       "      <td>42.8</td>\n",
       "    </tr>\n",
       "    <tr>\n",
       "      <th>il_util</th>\n",
       "      <td>22345</td>\n",
       "      <td>21.1</td>\n",
       "    </tr>\n",
       "    <tr>\n",
       "      <th>mths_since_rcnt_il</th>\n",
       "      <td>12812</td>\n",
       "      <td>12.1</td>\n",
       "    </tr>\n",
       "    <tr>\n",
       "      <th>mths_since_recent_inq</th>\n",
       "      <td>12193</td>\n",
       "      <td>11.5</td>\n",
       "    </tr>\n",
       "    <tr>\n",
       "      <th>all_util</th>\n",
       "      <td>10585</td>\n",
       "      <td>10.0</td>\n",
       "    </tr>\n",
       "    <tr>\n",
       "      <th>total_cu_tl</th>\n",
       "      <td>10576</td>\n",
       "      <td>10.0</td>\n",
       "    </tr>\n",
       "    <tr>\n",
       "      <th>open_rv_12m</th>\n",
       "      <td>10576</td>\n",
       "      <td>10.0</td>\n",
       "    </tr>\n",
       "    <tr>\n",
       "      <th>inq_last_12m</th>\n",
       "      <td>10576</td>\n",
       "      <td>10.0</td>\n",
       "    </tr>\n",
       "    <tr>\n",
       "      <th>inq_fi</th>\n",
       "      <td>10576</td>\n",
       "      <td>10.0</td>\n",
       "    </tr>\n",
       "    <tr>\n",
       "      <th>max_bal_bc</th>\n",
       "      <td>10576</td>\n",
       "      <td>10.0</td>\n",
       "    </tr>\n",
       "  </tbody>\n",
       "</table>\n",
       "</div>"
      ],
      "text/plain": [
       "                                Missing Values  % of Total Values\n",
       "ï»¿id                                   105665              100.0\n",
       "member_id                               105665              100.0\n",
       "verification_status_joint                99971               94.6\n",
       "dti_joint                                99590               94.3\n",
       "annual_inc_joint                         99589               94.2\n",
       "mths_since_last_record                   91660               86.7\n",
       "mths_since_recent_bc_dlq                 82817               78.4\n",
       "mths_since_last_major_derog              78779               74.6\n",
       "mths_since_recent_revol_delinq           72796               68.9\n",
       "mths_since_last_delinq                   56190               53.2\n",
       "next_pymnt_d                             45217               42.8\n",
       "il_util                                  22345               21.1\n",
       "mths_since_rcnt_il                       12812               12.1\n",
       "mths_since_recent_inq                    12193               11.5\n",
       "all_util                                 10585               10.0\n",
       "total_cu_tl                              10576               10.0\n",
       "open_rv_12m                              10576               10.0\n",
       "inq_last_12m                             10576               10.0\n",
       "inq_fi                                   10576               10.0\n",
       "max_bal_bc                               10576               10.0"
      ]
     },
     "execution_count": 5,
     "metadata": {},
     "output_type": "execute_result"
    }
   ],
   "source": [
    "miss_values = null_values(loan)\n",
    "miss_values.head(20)"
   ]
  },
  {
   "cell_type": "code",
   "execution_count": 6,
   "metadata": {},
   "outputs": [
    {
     "data": {
      "text/plain": [
       "(105665, 112)"
      ]
     },
     "execution_count": 6,
     "metadata": {},
     "output_type": "execute_result"
    }
   ],
   "source": [
    "loan.shape"
   ]
  },
  {
   "cell_type": "code",
   "execution_count": 7,
   "metadata": {},
   "outputs": [],
   "source": [
    "check_null = loan.isnull().sum(axis=0).sort_values(ascending=False)/float(len(loan))\n",
    "loan.drop(check_null[check_null>0.6].index, axis=1, inplace=True) \n",
    "loan.dropna(axis=0, thresh=30, inplace=True)"
   ]
  },
  {
   "cell_type": "code",
   "execution_count": 8,
   "metadata": {},
   "outputs": [
    {
     "data": {
      "text/html": [
       "<div>\n",
       "<style scoped>\n",
       "    .dataframe tbody tr th:only-of-type {\n",
       "        vertical-align: middle;\n",
       "    }\n",
       "\n",
       "    .dataframe tbody tr th {\n",
       "        vertical-align: top;\n",
       "    }\n",
       "\n",
       "    .dataframe thead th {\n",
       "        text-align: right;\n",
       "    }\n",
       "</style>\n",
       "<table border=\"1\" class=\"dataframe\">\n",
       "  <thead>\n",
       "    <tr style=\"text-align: right;\">\n",
       "      <th></th>\n",
       "      <th>loan_amnt</th>\n",
       "      <th>funded_amnt</th>\n",
       "      <th>funded_amnt_inv</th>\n",
       "      <th>term</th>\n",
       "      <th>int_rate</th>\n",
       "      <th>installment</th>\n",
       "      <th>grade</th>\n",
       "      <th>sub_grade</th>\n",
       "      <th>emp_title</th>\n",
       "      <th>emp_length</th>\n",
       "      <th>...</th>\n",
       "      <th>percent_bc_gt_75</th>\n",
       "      <th>pub_rec_bankruptcies</th>\n",
       "      <th>tax_liens</th>\n",
       "      <th>tot_hi_cred_lim</th>\n",
       "      <th>total_bal_ex_mort</th>\n",
       "      <th>total_bc_limit</th>\n",
       "      <th>total_il_high_credit_limit</th>\n",
       "      <th>hardship_flag</th>\n",
       "      <th>disbursement_method</th>\n",
       "      <th>debt_settlement_flag</th>\n",
       "    </tr>\n",
       "  </thead>\n",
       "  <tbody>\n",
       "    <tr>\n",
       "      <th>0</th>\n",
       "      <td>40000</td>\n",
       "      <td>40000</td>\n",
       "      <td>40000.0</td>\n",
       "      <td>60 months</td>\n",
       "      <td>10.90</td>\n",
       "      <td>867.71</td>\n",
       "      <td>B</td>\n",
       "      <td>B4</td>\n",
       "      <td>Director, Oracle Technology</td>\n",
       "      <td>10+ years</td>\n",
       "      <td>...</td>\n",
       "      <td>50.0</td>\n",
       "      <td>0</td>\n",
       "      <td>0</td>\n",
       "      <td>540677</td>\n",
       "      <td>99792</td>\n",
       "      <td>58700</td>\n",
       "      <td>94255</td>\n",
       "      <td>N</td>\n",
       "      <td>Cash</td>\n",
       "      <td>N</td>\n",
       "    </tr>\n",
       "    <tr>\n",
       "      <th>1</th>\n",
       "      <td>15000</td>\n",
       "      <td>15000</td>\n",
       "      <td>15000.0</td>\n",
       "      <td>36 months</td>\n",
       "      <td>11.98</td>\n",
       "      <td>498.08</td>\n",
       "      <td>B</td>\n",
       "      <td>B5</td>\n",
       "      <td>Technical Service Advisor</td>\n",
       "      <td>10+ years</td>\n",
       "      <td>...</td>\n",
       "      <td>0.0</td>\n",
       "      <td>0</td>\n",
       "      <td>0</td>\n",
       "      <td>78165</td>\n",
       "      <td>19667</td>\n",
       "      <td>23700</td>\n",
       "      <td>5265</td>\n",
       "      <td>N</td>\n",
       "      <td>Cash</td>\n",
       "      <td>N</td>\n",
       "    </tr>\n",
       "    <tr>\n",
       "      <th>2</th>\n",
       "      <td>35000</td>\n",
       "      <td>35000</td>\n",
       "      <td>35000.0</td>\n",
       "      <td>60 months</td>\n",
       "      <td>22.90</td>\n",
       "      <td>984.66</td>\n",
       "      <td>E</td>\n",
       "      <td>E1</td>\n",
       "      <td>Field Service Technician</td>\n",
       "      <td>9 years</td>\n",
       "      <td>...</td>\n",
       "      <td>23.8</td>\n",
       "      <td>0</td>\n",
       "      <td>0</td>\n",
       "      <td>565563</td>\n",
       "      <td>117245</td>\n",
       "      <td>75800</td>\n",
       "      <td>84082</td>\n",
       "      <td>N</td>\n",
       "      <td>Cash</td>\n",
       "      <td>N</td>\n",
       "    </tr>\n",
       "    <tr>\n",
       "      <th>3</th>\n",
       "      <td>21500</td>\n",
       "      <td>21500</td>\n",
       "      <td>21500.0</td>\n",
       "      <td>60 months</td>\n",
       "      <td>15.04</td>\n",
       "      <td>511.94</td>\n",
       "      <td>C</td>\n",
       "      <td>C4</td>\n",
       "      <td>Computer Technology Instructor</td>\n",
       "      <td>10+ years</td>\n",
       "      <td>...</td>\n",
       "      <td>0.0</td>\n",
       "      <td>0</td>\n",
       "      <td>0</td>\n",
       "      <td>143800</td>\n",
       "      <td>61733</td>\n",
       "      <td>68800</td>\n",
       "      <td>75000</td>\n",
       "      <td>N</td>\n",
       "      <td>Cash</td>\n",
       "      <td>N</td>\n",
       "    </tr>\n",
       "    <tr>\n",
       "      <th>4</th>\n",
       "      <td>20400</td>\n",
       "      <td>20400</td>\n",
       "      <td>20400.0</td>\n",
       "      <td>36 months</td>\n",
       "      <td>6.71</td>\n",
       "      <td>627.20</td>\n",
       "      <td>A</td>\n",
       "      <td>A3</td>\n",
       "      <td>service techncian</td>\n",
       "      <td>5 years</td>\n",
       "      <td>...</td>\n",
       "      <td>20.0</td>\n",
       "      <td>0</td>\n",
       "      <td>0</td>\n",
       "      <td>104780</td>\n",
       "      <td>43214</td>\n",
       "      <td>52600</td>\n",
       "      <td>52180</td>\n",
       "      <td>N</td>\n",
       "      <td>Cash</td>\n",
       "      <td>N</td>\n",
       "    </tr>\n",
       "  </tbody>\n",
       "</table>\n",
       "<p>5 rows × 103 columns</p>\n",
       "</div>"
      ],
      "text/plain": [
       "   loan_amnt  funded_amnt  funded_amnt_inv       term  int_rate  installment  \\\n",
       "0      40000        40000          40000.0  60 months     10.90       867.71   \n",
       "1      15000        15000          15000.0  36 months     11.98       498.08   \n",
       "2      35000        35000          35000.0  60 months     22.90       984.66   \n",
       "3      21500        21500          21500.0  60 months     15.04       511.94   \n",
       "4      20400        20400          20400.0  36 months      6.71       627.20   \n",
       "\n",
       "  grade sub_grade                       emp_title emp_length  ...  \\\n",
       "0     B        B4     Director, Oracle Technology  10+ years  ...   \n",
       "1     B        B5       Technical Service Advisor  10+ years  ...   \n",
       "2     E        E1        Field Service Technician    9 years  ...   \n",
       "3     C        C4  Computer Technology Instructor  10+ years  ...   \n",
       "4     A        A3               service techncian    5 years  ...   \n",
       "\n",
       "  percent_bc_gt_75  pub_rec_bankruptcies tax_liens tot_hi_cred_lim  \\\n",
       "0             50.0                     0         0          540677   \n",
       "1              0.0                     0         0           78165   \n",
       "2             23.8                     0         0          565563   \n",
       "3              0.0                     0         0          143800   \n",
       "4             20.0                     0         0          104780   \n",
       "\n",
       "  total_bal_ex_mort total_bc_limit total_il_high_credit_limit hardship_flag  \\\n",
       "0             99792          58700                      94255             N   \n",
       "1             19667          23700                       5265             N   \n",
       "2            117245          75800                      84082             N   \n",
       "3             61733          68800                      75000             N   \n",
       "4             43214          52600                      52180             N   \n",
       "\n",
       "  disbursement_method debt_settlement_flag  \n",
       "0                Cash                    N  \n",
       "1                Cash                    N  \n",
       "2                Cash                    N  \n",
       "3                Cash                    N  \n",
       "4                Cash                    N  \n",
       "\n",
       "[5 rows x 103 columns]"
      ]
     },
     "execution_count": 8,
     "metadata": {},
     "output_type": "execute_result"
    }
   ],
   "source": [
    "loan.head()"
   ]
  },
  {
   "cell_type": "code",
   "execution_count": 9,
   "metadata": {},
   "outputs": [
    {
     "data": {
      "text/html": [
       "<div>\n",
       "<style scoped>\n",
       "    .dataframe tbody tr th:only-of-type {\n",
       "        vertical-align: middle;\n",
       "    }\n",
       "\n",
       "    .dataframe tbody tr th {\n",
       "        vertical-align: top;\n",
       "    }\n",
       "\n",
       "    .dataframe thead tr th {\n",
       "        text-align: left;\n",
       "    }\n",
       "\n",
       "    .dataframe thead tr:last-of-type th {\n",
       "        text-align: right;\n",
       "    }\n",
       "</style>\n",
       "<table border=\"1\" class=\"dataframe\">\n",
       "  <thead>\n",
       "    <tr>\n",
       "      <th></th>\n",
       "      <th colspan=\"8\" halign=\"left\">loan_amnt</th>\n",
       "      <th colspan=\"2\" halign=\"left\">funded_amnt</th>\n",
       "      <th>...</th>\n",
       "      <th colspan=\"2\" halign=\"left\">total_bc_limit</th>\n",
       "      <th colspan=\"8\" halign=\"left\">total_il_high_credit_limit</th>\n",
       "    </tr>\n",
       "    <tr>\n",
       "      <th></th>\n",
       "      <th>count</th>\n",
       "      <th>mean</th>\n",
       "      <th>std</th>\n",
       "      <th>min</th>\n",
       "      <th>25%</th>\n",
       "      <th>50%</th>\n",
       "      <th>75%</th>\n",
       "      <th>max</th>\n",
       "      <th>count</th>\n",
       "      <th>mean</th>\n",
       "      <th>...</th>\n",
       "      <th>75%</th>\n",
       "      <th>max</th>\n",
       "      <th>count</th>\n",
       "      <th>mean</th>\n",
       "      <th>std</th>\n",
       "      <th>min</th>\n",
       "      <th>25%</th>\n",
       "      <th>50%</th>\n",
       "      <th>75%</th>\n",
       "      <th>max</th>\n",
       "    </tr>\n",
       "    <tr>\n",
       "      <th>loan_status</th>\n",
       "      <th></th>\n",
       "      <th></th>\n",
       "      <th></th>\n",
       "      <th></th>\n",
       "      <th></th>\n",
       "      <th></th>\n",
       "      <th></th>\n",
       "      <th></th>\n",
       "      <th></th>\n",
       "      <th></th>\n",
       "      <th></th>\n",
       "      <th></th>\n",
       "      <th></th>\n",
       "      <th></th>\n",
       "      <th></th>\n",
       "      <th></th>\n",
       "      <th></th>\n",
       "      <th></th>\n",
       "      <th></th>\n",
       "      <th></th>\n",
       "      <th></th>\n",
       "    </tr>\n",
       "  </thead>\n",
       "  <tbody>\n",
       "    <tr>\n",
       "      <th>Charged Off</th>\n",
       "      <td>8678.0</td>\n",
       "      <td>16205.897096</td>\n",
       "      <td>9129.649992</td>\n",
       "      <td>1000.0</td>\n",
       "      <td>9500.0</td>\n",
       "      <td>15000.0</td>\n",
       "      <td>22000.0</td>\n",
       "      <td>40000.0</td>\n",
       "      <td>8678.0</td>\n",
       "      <td>16205.897096</td>\n",
       "      <td>...</td>\n",
       "      <td>25387.5</td>\n",
       "      <td>228800.0</td>\n",
       "      <td>8678.0</td>\n",
       "      <td>45584.890873</td>\n",
       "      <td>38501.807114</td>\n",
       "      <td>0.0</td>\n",
       "      <td>19605.00</td>\n",
       "      <td>37537.5</td>\n",
       "      <td>61724.00</td>\n",
       "      <td>433591.0</td>\n",
       "    </tr>\n",
       "    <tr>\n",
       "      <th>Current</th>\n",
       "      <td>58594.0</td>\n",
       "      <td>16483.439857</td>\n",
       "      <td>9927.099237</td>\n",
       "      <td>1000.0</td>\n",
       "      <td>9300.0</td>\n",
       "      <td>15000.0</td>\n",
       "      <td>23000.0</td>\n",
       "      <td>40000.0</td>\n",
       "      <td>58594.0</td>\n",
       "      <td>16483.439857</td>\n",
       "      <td>...</td>\n",
       "      <td>36000.0</td>\n",
       "      <td>324800.0</td>\n",
       "      <td>58594.0</td>\n",
       "      <td>45668.788699</td>\n",
       "      <td>41320.937959</td>\n",
       "      <td>0.0</td>\n",
       "      <td>18000.00</td>\n",
       "      <td>36127.0</td>\n",
       "      <td>62786.00</td>\n",
       "      <td>612027.0</td>\n",
       "    </tr>\n",
       "    <tr>\n",
       "      <th>Default</th>\n",
       "      <td>1.0</td>\n",
       "      <td>40000.000000</td>\n",
       "      <td>NaN</td>\n",
       "      <td>40000.0</td>\n",
       "      <td>40000.0</td>\n",
       "      <td>40000.0</td>\n",
       "      <td>40000.0</td>\n",
       "      <td>40000.0</td>\n",
       "      <td>1.0</td>\n",
       "      <td>40000.000000</td>\n",
       "      <td>...</td>\n",
       "      <td>39700.0</td>\n",
       "      <td>39700.0</td>\n",
       "      <td>1.0</td>\n",
       "      <td>74153.000000</td>\n",
       "      <td>NaN</td>\n",
       "      <td>74153.0</td>\n",
       "      <td>74153.00</td>\n",
       "      <td>74153.0</td>\n",
       "      <td>74153.00</td>\n",
       "      <td>74153.0</td>\n",
       "    </tr>\n",
       "    <tr>\n",
       "      <th>Fully Paid</th>\n",
       "      <td>36539.0</td>\n",
       "      <td>14544.736446</td>\n",
       "      <td>8936.992768</td>\n",
       "      <td>1000.0</td>\n",
       "      <td>7500.0</td>\n",
       "      <td>12000.0</td>\n",
       "      <td>20000.0</td>\n",
       "      <td>40000.0</td>\n",
       "      <td>36539.0</td>\n",
       "      <td>14544.736446</td>\n",
       "      <td>...</td>\n",
       "      <td>32000.0</td>\n",
       "      <td>258600.0</td>\n",
       "      <td>36539.0</td>\n",
       "      <td>44371.353732</td>\n",
       "      <td>39747.861714</td>\n",
       "      <td>0.0</td>\n",
       "      <td>18376.00</td>\n",
       "      <td>35382.0</td>\n",
       "      <td>60033.00</td>\n",
       "      <td>1380346.0</td>\n",
       "    </tr>\n",
       "    <tr>\n",
       "      <th>In Grace Period</th>\n",
       "      <td>498.0</td>\n",
       "      <td>18063.504016</td>\n",
       "      <td>9779.513301</td>\n",
       "      <td>1000.0</td>\n",
       "      <td>10000.0</td>\n",
       "      <td>16000.0</td>\n",
       "      <td>25000.0</td>\n",
       "      <td>40000.0</td>\n",
       "      <td>498.0</td>\n",
       "      <td>18063.504016</td>\n",
       "      <td>...</td>\n",
       "      <td>26975.0</td>\n",
       "      <td>167000.0</td>\n",
       "      <td>498.0</td>\n",
       "      <td>48240.608434</td>\n",
       "      <td>43317.290061</td>\n",
       "      <td>0.0</td>\n",
       "      <td>19952.00</td>\n",
       "      <td>36433.5</td>\n",
       "      <td>65641.75</td>\n",
       "      <td>381533.0</td>\n",
       "    </tr>\n",
       "    <tr>\n",
       "      <th>Late (16-30 days)</th>\n",
       "      <td>173.0</td>\n",
       "      <td>18948.265896</td>\n",
       "      <td>10264.761628</td>\n",
       "      <td>1600.0</td>\n",
       "      <td>10000.0</td>\n",
       "      <td>18000.0</td>\n",
       "      <td>25000.0</td>\n",
       "      <td>40000.0</td>\n",
       "      <td>173.0</td>\n",
       "      <td>18948.265896</td>\n",
       "      <td>...</td>\n",
       "      <td>34375.0</td>\n",
       "      <td>105700.0</td>\n",
       "      <td>173.0</td>\n",
       "      <td>53519.173410</td>\n",
       "      <td>44363.969892</td>\n",
       "      <td>0.0</td>\n",
       "      <td>23236.00</td>\n",
       "      <td>43080.0</td>\n",
       "      <td>76015.00</td>\n",
       "      <td>293961.0</td>\n",
       "    </tr>\n",
       "    <tr>\n",
       "      <th>Late (31-120 days)</th>\n",
       "      <td>1182.0</td>\n",
       "      <td>17409.517766</td>\n",
       "      <td>9873.420749</td>\n",
       "      <td>1000.0</td>\n",
       "      <td>10000.0</td>\n",
       "      <td>15000.0</td>\n",
       "      <td>24175.0</td>\n",
       "      <td>40000.0</td>\n",
       "      <td>1182.0</td>\n",
       "      <td>17409.517766</td>\n",
       "      <td>...</td>\n",
       "      <td>26975.0</td>\n",
       "      <td>212800.0</td>\n",
       "      <td>1182.0</td>\n",
       "      <td>47551.238579</td>\n",
       "      <td>43395.764696</td>\n",
       "      <td>0.0</td>\n",
       "      <td>18285.75</td>\n",
       "      <td>38012.0</td>\n",
       "      <td>64560.75</td>\n",
       "      <td>319466.0</td>\n",
       "    </tr>\n",
       "  </tbody>\n",
       "</table>\n",
       "<p>7 rows × 640 columns</p>\n",
       "</div>"
      ],
      "text/plain": [
       "                   loan_amnt                                                \\\n",
       "                       count          mean           std      min      25%   \n",
       "loan_status                                                                  \n",
       "Charged Off           8678.0  16205.897096   9129.649992   1000.0   9500.0   \n",
       "Current              58594.0  16483.439857   9927.099237   1000.0   9300.0   \n",
       "Default                  1.0  40000.000000           NaN  40000.0  40000.0   \n",
       "Fully Paid           36539.0  14544.736446   8936.992768   1000.0   7500.0   \n",
       "In Grace Period        498.0  18063.504016   9779.513301   1000.0  10000.0   \n",
       "Late (16-30 days)      173.0  18948.265896  10264.761628   1600.0  10000.0   \n",
       "Late (31-120 days)    1182.0  17409.517766   9873.420749   1000.0  10000.0   \n",
       "\n",
       "                                              funded_amnt                ...  \\\n",
       "                        50%      75%      max       count          mean  ...   \n",
       "loan_status                                                              ...   \n",
       "Charged Off         15000.0  22000.0  40000.0      8678.0  16205.897096  ...   \n",
       "Current             15000.0  23000.0  40000.0     58594.0  16483.439857  ...   \n",
       "Default             40000.0  40000.0  40000.0         1.0  40000.000000  ...   \n",
       "Fully Paid          12000.0  20000.0  40000.0     36539.0  14544.736446  ...   \n",
       "In Grace Period     16000.0  25000.0  40000.0       498.0  18063.504016  ...   \n",
       "Late (16-30 days)   18000.0  25000.0  40000.0       173.0  18948.265896  ...   \n",
       "Late (31-120 days)  15000.0  24175.0  40000.0      1182.0  17409.517766  ...   \n",
       "\n",
       "                   total_bc_limit           total_il_high_credit_limit  \\\n",
       "                              75%       max                      count   \n",
       "loan_status                                                              \n",
       "Charged Off               25387.5  228800.0                     8678.0   \n",
       "Current                   36000.0  324800.0                    58594.0   \n",
       "Default                   39700.0   39700.0                        1.0   \n",
       "Fully Paid                32000.0  258600.0                    36539.0   \n",
       "In Grace Period           26975.0  167000.0                      498.0   \n",
       "Late (16-30 days)         34375.0  105700.0                      173.0   \n",
       "Late (31-120 days)        26975.0  212800.0                     1182.0   \n",
       "\n",
       "                                                                            \\\n",
       "                            mean           std      min       25%      50%   \n",
       "loan_status                                                                  \n",
       "Charged Off         45584.890873  38501.807114      0.0  19605.00  37537.5   \n",
       "Current             45668.788699  41320.937959      0.0  18000.00  36127.0   \n",
       "Default             74153.000000           NaN  74153.0  74153.00  74153.0   \n",
       "Fully Paid          44371.353732  39747.861714      0.0  18376.00  35382.0   \n",
       "In Grace Period     48240.608434  43317.290061      0.0  19952.00  36433.5   \n",
       "Late (16-30 days)   53519.173410  44363.969892      0.0  23236.00  43080.0   \n",
       "Late (31-120 days)  47551.238579  43395.764696      0.0  18285.75  38012.0   \n",
       "\n",
       "                                         \n",
       "                         75%        max  \n",
       "loan_status                              \n",
       "Charged Off         61724.00   433591.0  \n",
       "Current             62786.00   612027.0  \n",
       "Default             74153.00    74153.0  \n",
       "Fully Paid          60033.00  1380346.0  \n",
       "In Grace Period     65641.75   381533.0  \n",
       "Late (16-30 days)   76015.00   293961.0  \n",
       "Late (31-120 days)  64560.75   319466.0  \n",
       "\n",
       "[7 rows x 640 columns]"
      ]
     },
     "execution_count": 9,
     "metadata": {},
     "output_type": "execute_result"
    }
   ],
   "source": [
    "loan.groupby('loan_status').describe()"
   ]
  },
  {
   "cell_type": "code",
   "execution_count": 10,
   "metadata": {},
   "outputs": [],
   "source": [
    "dfcheck = loan[(loan.loan_status == \"Charged Off\") | (loan.loan_status == \"Fully Paid\")]"
   ]
  },
  {
   "cell_type": "code",
   "execution_count": 11,
   "metadata": {},
   "outputs": [
    {
     "data": {
      "text/html": [
       "<div>\n",
       "<style scoped>\n",
       "    .dataframe tbody tr th:only-of-type {\n",
       "        vertical-align: middle;\n",
       "    }\n",
       "\n",
       "    .dataframe tbody tr th {\n",
       "        vertical-align: top;\n",
       "    }\n",
       "\n",
       "    .dataframe thead tr th {\n",
       "        text-align: left;\n",
       "    }\n",
       "\n",
       "    .dataframe thead tr:last-of-type th {\n",
       "        text-align: right;\n",
       "    }\n",
       "</style>\n",
       "<table border=\"1\" class=\"dataframe\">\n",
       "  <thead>\n",
       "    <tr>\n",
       "      <th></th>\n",
       "      <th colspan=\"8\" halign=\"left\">loan_amnt</th>\n",
       "      <th colspan=\"2\" halign=\"left\">funded_amnt</th>\n",
       "      <th>...</th>\n",
       "      <th colspan=\"2\" halign=\"left\">total_bc_limit</th>\n",
       "      <th colspan=\"8\" halign=\"left\">total_il_high_credit_limit</th>\n",
       "    </tr>\n",
       "    <tr>\n",
       "      <th></th>\n",
       "      <th>count</th>\n",
       "      <th>mean</th>\n",
       "      <th>std</th>\n",
       "      <th>min</th>\n",
       "      <th>25%</th>\n",
       "      <th>50%</th>\n",
       "      <th>75%</th>\n",
       "      <th>max</th>\n",
       "      <th>count</th>\n",
       "      <th>mean</th>\n",
       "      <th>...</th>\n",
       "      <th>75%</th>\n",
       "      <th>max</th>\n",
       "      <th>count</th>\n",
       "      <th>mean</th>\n",
       "      <th>std</th>\n",
       "      <th>min</th>\n",
       "      <th>25%</th>\n",
       "      <th>50%</th>\n",
       "      <th>75%</th>\n",
       "      <th>max</th>\n",
       "    </tr>\n",
       "    <tr>\n",
       "      <th>loan_status</th>\n",
       "      <th></th>\n",
       "      <th></th>\n",
       "      <th></th>\n",
       "      <th></th>\n",
       "      <th></th>\n",
       "      <th></th>\n",
       "      <th></th>\n",
       "      <th></th>\n",
       "      <th></th>\n",
       "      <th></th>\n",
       "      <th></th>\n",
       "      <th></th>\n",
       "      <th></th>\n",
       "      <th></th>\n",
       "      <th></th>\n",
       "      <th></th>\n",
       "      <th></th>\n",
       "      <th></th>\n",
       "      <th></th>\n",
       "      <th></th>\n",
       "      <th></th>\n",
       "    </tr>\n",
       "  </thead>\n",
       "  <tbody>\n",
       "    <tr>\n",
       "      <th>Charged Off</th>\n",
       "      <td>8678.0</td>\n",
       "      <td>16205.897096</td>\n",
       "      <td>9129.649992</td>\n",
       "      <td>1000.0</td>\n",
       "      <td>9500.0</td>\n",
       "      <td>15000.0</td>\n",
       "      <td>22000.0</td>\n",
       "      <td>40000.0</td>\n",
       "      <td>8678.0</td>\n",
       "      <td>16205.897096</td>\n",
       "      <td>...</td>\n",
       "      <td>25387.5</td>\n",
       "      <td>228800.0</td>\n",
       "      <td>8678.0</td>\n",
       "      <td>45584.890873</td>\n",
       "      <td>38501.807114</td>\n",
       "      <td>0.0</td>\n",
       "      <td>19605.0</td>\n",
       "      <td>37537.5</td>\n",
       "      <td>61724.0</td>\n",
       "      <td>433591.0</td>\n",
       "    </tr>\n",
       "    <tr>\n",
       "      <th>Fully Paid</th>\n",
       "      <td>36539.0</td>\n",
       "      <td>14544.736446</td>\n",
       "      <td>8936.992768</td>\n",
       "      <td>1000.0</td>\n",
       "      <td>7500.0</td>\n",
       "      <td>12000.0</td>\n",
       "      <td>20000.0</td>\n",
       "      <td>40000.0</td>\n",
       "      <td>36539.0</td>\n",
       "      <td>14544.736446</td>\n",
       "      <td>...</td>\n",
       "      <td>32000.0</td>\n",
       "      <td>258600.0</td>\n",
       "      <td>36539.0</td>\n",
       "      <td>44371.353732</td>\n",
       "      <td>39747.861714</td>\n",
       "      <td>0.0</td>\n",
       "      <td>18376.0</td>\n",
       "      <td>35382.0</td>\n",
       "      <td>60033.0</td>\n",
       "      <td>1380346.0</td>\n",
       "    </tr>\n",
       "  </tbody>\n",
       "</table>\n",
       "<p>2 rows × 640 columns</p>\n",
       "</div>"
      ],
      "text/plain": [
       "            loan_amnt                                                      \\\n",
       "                count          mean          std     min     25%      50%   \n",
       "loan_status                                                                 \n",
       "Charged Off    8678.0  16205.897096  9129.649992  1000.0  9500.0  15000.0   \n",
       "Fully Paid    36539.0  14544.736446  8936.992768  1000.0  7500.0  12000.0   \n",
       "\n",
       "                              funded_amnt                ... total_bc_limit  \\\n",
       "                 75%      max       count          mean  ...            75%   \n",
       "loan_status                                              ...                  \n",
       "Charged Off  22000.0  40000.0      8678.0  16205.897096  ...        25387.5   \n",
       "Fully Paid   20000.0  40000.0     36539.0  14544.736446  ...        32000.0   \n",
       "\n",
       "                      total_il_high_credit_limit                              \\\n",
       "                  max                      count          mean           std   \n",
       "loan_status                                                                    \n",
       "Charged Off  228800.0                     8678.0  45584.890873  38501.807114   \n",
       "Fully Paid   258600.0                    36539.0  44371.353732  39747.861714   \n",
       "\n",
       "                                                        \n",
       "             min      25%      50%      75%        max  \n",
       "loan_status                                             \n",
       "Charged Off  0.0  19605.0  37537.5  61724.0   433591.0  \n",
       "Fully Paid   0.0  18376.0  35382.0  60033.0  1380346.0  \n",
       "\n",
       "[2 rows x 640 columns]"
      ]
     },
     "execution_count": 11,
     "metadata": {},
     "output_type": "execute_result"
    }
   ],
   "source": [
    "dfcheck.groupby('loan_status').describe()"
   ]
  },
  {
   "cell_type": "code",
   "execution_count": 12,
   "metadata": {},
   "outputs": [
    {
     "data": {
      "text/plain": [
       "<matplotlib.axes._subplots.AxesSubplot at 0x2651d7f9c48>"
      ]
     },
     "execution_count": 12,
     "metadata": {},
     "output_type": "execute_result"
    },
    {
     "data": {
      "image/png": "[encoded data removed]",
      "text/plain": [
       "<Figure size 432x288 with 1 Axes>"
      ]
     },
     "metadata": {
      "needs_background": "light"
     },
     "output_type": "display_data"
    }
   ],
   "source": [
    "dfcheck.dtypes.value_counts().sort_values().plot(kind='bar')"
   ]
  },
  {
   "cell_type": "code",
   "execution_count": 13,
   "metadata": {},
   "outputs": [
    {
     "data": {
      "text/plain": [
       "term                        2\n",
       "grade                       7\n",
       "sub_grade                  35\n",
       "emp_title               18335\n",
       "emp_length                 11\n",
       "home_ownership              4\n",
       "verification_status         3\n",
       "issue_d                     1\n",
       "loan_status                 2\n",
       "pymnt_plan                  1\n",
       "purpose                    12\n",
       "title                      12\n",
       "zip_code                  858\n",
       "addr_state                 50\n",
       "earliest_cr_line            1\n",
       "initial_list_status         2\n",
       "last_pymnt_d                1\n",
       "next_pymnt_d                0\n",
       "last_credit_pull_d          1\n",
       "application_type            2\n",
       "hardship_flag               1\n",
       "disbursement_method         2\n",
       "debt_settlement_flag        2\n",
       "dtype: int64"
      ]
     },
     "execution_count": 13,
     "metadata": {},
     "output_type": "execute_result"
    }
   ],
   "source": [
    "dfcheck.select_dtypes('object').apply(pd.Series.nunique, axis = 0)"
   ]
  },
  {
   "cell_type": "markdown",
   "metadata": {},
   "source": [
    "### Filling up null values in employment length with 0 and extract years working into int values using regex"
   ]
  },
  {
   "cell_type": "code",
   "execution_count": 14,
   "metadata": {},
   "outputs": [
    {
     "name": "stderr",
     "output_type": "stream",
     "text": [
      "C:\\Users\\fghan\\anaconda3\\lib\\site-packages\\pandas\\core\\generic.py:6245: SettingWithCopyWarning: \n",
      "A value is trying to be set on a copy of a slice from a DataFrame\n",
      "\n",
      "See the caveats in the documentation: https://pandas.pydata.org/pandas-docs/stable/user_guide/indexing.html#returning-a-view-versus-a-copy\n",
      "  self._update_inplace(new_data)\n",
      "C:\\Users\\fghan\\anaconda3\\lib\\site-packages\\pandas\\core\\generic.py:6746: SettingWithCopyWarning: \n",
      "A value is trying to be set on a copy of a slice from a DataFrame\n",
      "\n",
      "See the caveats in the documentation: https://pandas.pydata.org/pandas-docs/stable/user_guide/indexing.html#returning-a-view-versus-a-copy\n",
      "  self._update_inplace(new_data)\n"
     ]
    },
    {
     "data": {
      "text/plain": [
       "<matplotlib.axes._subplots.AxesSubplot at 0x26529afa948>"
      ]
     },
     "execution_count": 14,
     "metadata": {},
     "output_type": "execute_result"
    },
    {
     "data": {
      "image/png": "[encoded data removed]",
      "text/plain": [
       "<Figure size 432x288 with 1 Axes>"
      ]
     },
     "metadata": {
      "needs_background": "light"
     },
     "output_type": "display_data"
    }
   ],
   "source": [
    "dfcheck['emp_length'].fillna(value=0,inplace=True)\n",
    "\n",
    "dfcheck['emp_length'].replace(to_replace='[^0-9]+', value='', inplace=True, regex=True)\n",
    "sns.countplot(dfcheck.emp_length)"
   ]
  },
  {
   "cell_type": "markdown",
   "metadata": {},
   "source": [
    "### Variation of interest rate with Debt- to- Income ratio\n",
    "This shows that if the debt to income ration is high, then person is more likely not to pay off loan if interest rate is higher"
   ]
  },
  {
   "cell_type": "code",
   "execution_count": 15,
   "metadata": {},
   "outputs": [
    {
     "data": {
      "image/png": "[encoded data removed]",
      "text/plain": [
       "<Figure size 432x288 with 1 Axes>"
      ]
     },
     "metadata": {
      "needs_background": "light"
     },
     "output_type": "display_data"
    }
   ],
   "source": [
    "sns.kdeplot(dfcheck.loc[loan['loan_status'] == \"Charged Off\", 'int_rate'], label = 'loan = charged off')\n",
    "sns.kdeplot(dfcheck.loc[loan['loan_status'] == \"Fully Paid\", 'int_rate'], label = 'loan = fully paid');"
   ]
  },
  {
   "cell_type": "markdown",
   "metadata": {},
   "source": [
    "### Interest rate by grade for both cases"
   ]
  },
  {
   "cell_type": "code",
   "execution_count": 16,
   "metadata": {},
   "outputs": [
    {
     "data": {
      "text/plain": [
       "<matplotlib.axes._subplots.AxesSubplot at 0x2651d7b0c48>"
      ]
     },
     "execution_count": 16,
     "metadata": {},
     "output_type": "execute_result"
    },
    {
     "data": {
      "image/png": "[encoded data removed]",
      "text/plain": [
       "<Figure size 1296x576 with 1 Axes>"
      ]
     },
     "metadata": {
      "needs_background": "light"
     },
     "output_type": "display_data"
    }
   ],
   "source": [
    "fig = plt.figure(figsize=(18,8))\n",
    "sns.violinplot(x=\"loan_status\",y=\"int_rate\",data=dfcheck, hue=\"grade\")"
   ]
  },
  {
   "cell_type": "code",
   "execution_count": 17,
   "metadata": {
    "scrolled": true
   },
   "outputs": [
    {
     "name": "stderr",
     "output_type": "stream",
     "text": [
      "C:\\Users\\fghan\\anaconda3\\lib\\site-packages\\pandas\\core\\frame.py:3997: SettingWithCopyWarning: \n",
      "A value is trying to be set on a copy of a slice from a DataFrame\n",
      "\n",
      "See the caveats in the documentation: https://pandas.pydata.org/pandas-docs/stable/user_guide/indexing.html#returning-a-view-versus-a-copy\n",
      "  errors=errors,\n"
     ]
    }
   ],
   "source": [
    "dfcheck.drop(['emp_title','title','zip_code', 'pymnt_plan'],axis=1,inplace=True)"
   ]
  },
  {
   "cell_type": "code",
   "execution_count": 18,
   "metadata": {},
   "outputs": [],
   "source": [
    "# plt.scatter(loan.int_rate, loan.loan_amnt, annual_inc,c = 'b')\n",
    "# plt.show()"
   ]
  },
  {
   "cell_type": "code",
   "execution_count": 19,
   "metadata": {},
   "outputs": [
    {
     "data": {
      "text/plain": [
       "term                     2\n",
       "grade                    7\n",
       "sub_grade               35\n",
       "emp_length              11\n",
       "home_ownership           4\n",
       "verification_status      3\n",
       "issue_d                  1\n",
       "loan_status              2\n",
       "purpose                 12\n",
       "addr_state              50\n",
       "earliest_cr_line         1\n",
       "initial_list_status      2\n",
       "last_pymnt_d             1\n",
       "next_pymnt_d             0\n",
       "last_credit_pull_d       1\n",
       "application_type         2\n",
       "hardship_flag            1\n",
       "disbursement_method      2\n",
       "debt_settlement_flag     2\n",
       "dtype: int64"
      ]
     },
     "execution_count": 19,
     "metadata": {},
     "output_type": "execute_result"
    }
   ],
   "source": [
    "dfcheck.select_dtypes('object').apply(pd.Series.nunique, axis = 0)"
   ]
  },
  {
   "cell_type": "code",
   "execution_count": 20,
   "metadata": {},
   "outputs": [],
   "source": [
    "dfcheck.drop(['last_pymnt_d', 'next_pymnt_d', 'sub_grade'],axis=1,inplace=True)"
   ]
  },
  {
   "cell_type": "code",
   "execution_count": 21,
   "metadata": {},
   "outputs": [
    {
     "name": "stderr",
     "output_type": "stream",
     "text": [
      "C:\\Users\\fghan\\anaconda3\\lib\\site-packages\\ipykernel_launcher.py:1: SettingWithCopyWarning: \n",
      "A value is trying to be set on a copy of a slice from a DataFrame.\n",
      "Try using .loc[row_indexer,col_indexer] = value instead\n",
      "\n",
      "See the caveats in the documentation: https://pandas.pydata.org/pandas-docs/stable/user_guide/indexing.html#returning-a-view-versus-a-copy\n",
      "  \"\"\"Entry point for launching an IPython kernel.\n"
     ]
    }
   ],
   "source": [
    "dfcheck['term'] = dfcheck['term'].str.split(' ').str[1]"
   ]
  },
  {
   "cell_type": "markdown",
   "metadata": {},
   "source": [
    "Feature selection for modelling"
   ]
  },
  {
   "cell_type": "code",
   "execution_count": 22,
   "metadata": {},
   "outputs": [],
   "source": [
    "features = ['loan_amnt', 'term', 'issue_d', \n",
    "            'installment', 'grade','emp_length',\n",
    "            'home_ownership', 'annual_inc','verification_status',\n",
    "            'purpose', 'dti', 'delinq_2yrs', 'inq_last_6mths', \n",
    "            'open_acc', 'pub_rec', 'pub_rec_bankruptcies', 'initial_list_status', 'last_credit_pull_d', \n",
    "            'loan_status', 'earliest_cr_line', 'mths_since_last_delinq', \n",
    "            'num_accts_ever_120_pd', 'mort_acc'\n",
    "           ]\n",
    "dfmodel= dfcheck[features]"
   ]
  },
  {
   "cell_type": "markdown",
   "metadata": {},
   "source": [
    "Transforming date data into integer before hot encoding rest"
   ]
  },
  {
   "cell_type": "code",
   "execution_count": 23,
   "metadata": {},
   "outputs": [
    {
     "name": "stderr",
     "output_type": "stream",
     "text": [
      "C:\\Users\\fghan\\anaconda3\\lib\\site-packages\\ipykernel_launcher.py:1: SettingWithCopyWarning: \n",
      "A value is trying to be set on a copy of a slice from a DataFrame.\n",
      "Try using .loc[row_indexer,col_indexer] = value instead\n",
      "\n",
      "See the caveats in the documentation: https://pandas.pydata.org/pandas-docs/stable/user_guide/indexing.html#returning-a-view-versus-a-copy\n",
      "  \"\"\"Entry point for launching an IPython kernel.\n",
      "C:\\Users\\fghan\\anaconda3\\lib\\site-packages\\ipykernel_launcher.py:2: SettingWithCopyWarning: \n",
      "A value is trying to be set on a copy of a slice from a DataFrame.\n",
      "Try using .loc[row_indexer,col_indexer] = value instead\n",
      "\n",
      "See the caveats in the documentation: https://pandas.pydata.org/pandas-docs/stable/user_guide/indexing.html#returning-a-view-versus-a-copy\n",
      "  \n",
      "C:\\Users\\fghan\\anaconda3\\lib\\site-packages\\ipykernel_launcher.py:3: SettingWithCopyWarning: \n",
      "A value is trying to be set on a copy of a slice from a DataFrame.\n",
      "Try using .loc[row_indexer,col_indexer] = value instead\n",
      "\n",
      "See the caveats in the documentation: https://pandas.pydata.org/pandas-docs/stable/user_guide/indexing.html#returning-a-view-versus-a-copy\n",
      "  This is separate from the ipykernel package so we can avoid doing imports until\n",
      "C:\\Users\\fghan\\anaconda3\\lib\\site-packages\\ipykernel_launcher.py:5: SettingWithCopyWarning: \n",
      "A value is trying to be set on a copy of a slice from a DataFrame.\n",
      "Try using .loc[row_indexer,col_indexer] = value instead\n",
      "\n",
      "See the caveats in the documentation: https://pandas.pydata.org/pandas-docs/stable/user_guide/indexing.html#returning-a-view-versus-a-copy\n",
      "  \"\"\"\n"
     ]
    }
   ],
   "source": [
    "dfmodel['issue_d']= pd.to_datetime(dfmodel['issue_d']).apply(lambda x: int(x.strftime('%Y')))\n",
    "dfmodel['last_credit_pull_d']= pd.to_datetime(dfmodel['last_credit_pull_d'].fillna(\"2016-01-01\")).apply(lambda x: int(x.strftime('%m')))\n",
    "dfmodel['earliest_cr_line']= pd.to_datetime(dfmodel['earliest_cr_line'].fillna('2001-08-01')).apply(lambda x: int(x.strftime('%m')))\n",
    "dfmodel.select_dtypes('object').apply(pd.Series.nunique, axis = 0)\n",
    "dfmodel['mths_since_last_delinq'] = dfmodel['mths_since_last_delinq'].fillna(dfmodel['mths_since_last_delinq'].median())"
   ]
  },
  {
   "cell_type": "markdown",
   "metadata": {},
   "source": [
    "Label-encoding object data"
   ]
  },
  {
   "cell_type": "code",
   "execution_count": 24,
   "metadata": {},
   "outputs": [
    {
     "name": "stdout",
     "output_type": "stream",
     "text": [
      "term\n",
      "initial_list_status\n",
      "loan_status\n"
     ]
    },
    {
     "name": "stderr",
     "output_type": "stream",
     "text": [
      "C:\\Users\\fghan\\anaconda3\\lib\\site-packages\\ipykernel_launcher.py:9: SettingWithCopyWarning: \n",
      "A value is trying to be set on a copy of a slice from a DataFrame.\n",
      "Try using .loc[row_indexer,col_indexer] = value instead\n",
      "\n",
      "See the caveats in the documentation: https://pandas.pydata.org/pandas-docs/stable/user_guide/indexing.html#returning-a-view-versus-a-copy\n",
      "  if __name__ == '__main__':\n"
     ]
    }
   ],
   "source": [
    "from sklearn import preprocessing\n",
    "\n",
    "count = 0\n",
    "\n",
    "for col in dfmodel:\n",
    "    if dfmodel[col].dtype == 'object':\n",
    "        if len(list(dfmodel[col].unique())) <= 2:     \n",
    "            le = preprocessing.LabelEncoder()\n",
    "            dfmodel[col] = le.fit_transform(dfmodel[col])\n",
    "            count += 1\n",
    "            print (col)"
   ]
  },
  {
   "cell_type": "markdown",
   "metadata": {},
   "source": [
    "Hot encoding more than 2 unique value data type object columns"
   ]
  },
  {
   "cell_type": "code",
   "execution_count": 25,
   "metadata": {},
   "outputs": [],
   "source": [
    "dfmodel = pd.get_dummies(dfmodel)\n",
    "loan.dropna(inplace=True)"
   ]
  },
  {
   "cell_type": "markdown",
   "metadata": {},
   "source": [
    "### Modelling"
   ]
  },
  {
   "cell_type": "markdown",
   "metadata": {},
   "source": [
    "#### Classification"
   ]
  },
  {
   "cell_type": "code",
   "execution_count": 26,
   "metadata": {},
   "outputs": [],
   "source": [
    "from sklearn.model_selection import train_test_split\n",
    "from sklearn.metrics import accuracy_score\n",
    "\n",
    "dftarget = dfmodel['loan_status']\n",
    "dfTrain= dfmodel.drop('loan_status',axis=1)\n",
    "X_train, X_test, y_train, y_test = train_test_split(dfTrain,dftarget,test_size=0.20,random_state=42)"
   ]
  },
  {
   "cell_type": "markdown",
   "metadata": {},
   "source": [
    "#### Random Forest Model"
   ]
  },
  {
   "cell_type": "code",
   "execution_count": 30,
   "metadata": {},
   "outputs": [],
   "source": [
    "from sklearn.ensemble import RandomForestRegressor\n",
    "from sklearn.ensemble import RandomForestClassifier\n",
    "\n",
    "rf =  RandomForestClassifier(n_estimators = 20, min_samples_leaf=3)\n",
    "# Train the model on training data\n",
    "rf.fit(X_train, y_train);"
   ]
  },
  {
   "cell_type": "code",
   "execution_count": 32,
   "metadata": {},
   "outputs": [
    {
     "name": "stdout",
     "output_type": "stream",
     "text": [
      "0.8780406899601946\n"
     ]
    }
   ],
   "source": [
    "rf.fit(X_test, y_test);\n",
    "print(rf.score(X_test, y_test));"
   ]
  },
  {
   "cell_type": "code",
   "execution_count": 33,
   "metadata": {},
   "outputs": [
    {
     "name": "stdout",
     "output_type": "stream",
     "text": [
      "LogLoss: 4.21 \n"
     ]
    }
   ],
   "source": [
    "from sklearn.metrics import log_loss\n",
    "\n",
    "probs = rf.predict(X_test)\n",
    "loss = log_loss(y_test, probs)\n",
    "print (\"LogLoss: %.2f \" % (loss) )"
   ]
  },
  {
   "cell_type": "code",
   "execution_count": 34,
   "metadata": {},
   "outputs": [],
   "source": [
    "lr_probs = rf.predict(X_test)\n",
    "ns_probs = [0 for _ in range(len(y_test))]\n",
    "#lr_probs = lr_probs[:, 1]"
   ]
  },
  {
   "cell_type": "code",
   "execution_count": 59,
   "metadata": {},
   "outputs": [],
   "source": [
    "from sklearn.metrics import roc_curve\n",
    "from sklearn.metrics import roc_auc_score\n",
    "from matplotlib import pyplot\n",
    "#lr_probs = lr_probs[:, 1]\n",
    "# calculate scores\n",
    "#ns_auc = roc_auc_score(y_test, ns_probs)\n",
    "lr_auc = roc_auc_score(y_test, lr_probs)\n",
    "ns_auc = roc_auc_score(y_test, ns_probs)"
   ]
  },
  {
   "cell_type": "code",
   "execution_count": 60,
   "metadata": {},
   "outputs": [
    {
     "name": "stdout",
     "output_type": "stream",
     "text": [
      "No Skill: ROC AUC=0.500\n",
      "Logistic: ROC AUC=0.700\n"
     ]
    }
   ],
   "source": [
    "print('No Skill: ROC AUC=%.3f' % (ns_auc))\n",
    "print('Logistic: ROC AUC=%.3f' % (lr_auc))"
   ]
  },
  {
   "cell_type": "code",
   "execution_count": 61,
   "metadata": {},
   "outputs": [
    {
     "name": "stdout",
     "output_type": "stream",
     "text": [
      "AUC: 0.700\n"
     ]
    }
   ],
   "source": [
    "# calculate AUC\n",
    "auc = roc_auc_score(y_test, probs)\n",
    "print('AUC: %.3f' % auc)"
   ]
  },
  {
   "cell_type": "code",
   "execution_count": 62,
   "metadata": {},
   "outputs": [],
   "source": [
    "ns_fpr, ns_tpr, _ = roc_curve(y_test, ns_probs)\n",
    "lr_fpr, lr_tpr, _ = roc_curve(y_test, lr_probs)"
   ]
  },
  {
   "cell_type": "code",
   "execution_count": 63,
   "metadata": {},
   "outputs": [
    {
     "data": {
      "image/png": "[encoded data removed]",
      "text/plain": [
       "<Figure size 432x288 with 1 Axes>"
      ]
     },
     "metadata": {
      "needs_background": "light"
     },
     "output_type": "display_data"
    }
   ],
   "source": [
    "pyplot.plot(ns_fpr, ns_tpr, linestyle='--', label='No Skill')\n",
    "pyplot.plot(lr_fpr, lr_tpr, marker='.', label='Logistic', color='red')\n",
    "pyplot.xlabel('False Positive Rate')\n",
    "pyplot.ylabel('True Positive Rate')\n",
    "# show the legend\n",
    "pyplot.legend()\n",
    "# show the plot\n",
    "pyplot.show()"
   ]
  },
  {
   "cell_type": "code",
   "execution_count": null,
   "metadata": {},
   "outputs": [],
   "source": []
  },
  {
   "cell_type": "code",
   "execution_count": 64,
   "metadata": {},
   "outputs": [],
   "source": [
    "#define function to calculate rmse and print score\n",
    "def rmse(x,y): return math.sqrt(((x-y)**2).mean())\n",
    "\n",
    "def print_score(rf):\n",
    "   res = [rmse(rf.predict(X_train), y_train), rmse(rf.predict(X_valid), y_valid),\n",
    "               rf.score(X_train, y_train), rf.score(X_valid, y_valid)]\n",
    "   if hasattr(rf, 'oob_score_'): res.append(rf.oob_score_)\n",
    "   print(res)"
   ]
  },
  {
   "cell_type": "code",
   "execution_count": 65,
   "metadata": {},
   "outputs": [
    {
     "name": "stdout",
     "output_type": "stream",
     "text": [
      "Wall time: 110 ms\n"
     ]
    },
    {
     "data": {
      "text/plain": [
       "(0.7, 0.45825756949558394)"
      ]
     },
     "execution_count": 65,
     "metadata": {},
     "output_type": "execute_result"
    }
   ],
   "source": [
    "%time preds = np.stack([t.predict(X_test) for t in rf.estimators_])\n",
    "np.mean(preds[:,0]), np.std(preds[:,0])"
   ]
  },
  {
   "cell_type": "code",
   "execution_count": 66,
   "metadata": {},
   "outputs": [],
   "source": [
    "from sklearn.metrics import f1_score\n",
    "from sklearn.metrics import auc\n",
    "from sklearn.datasets import make_classification"
   ]
  },
  {
   "cell_type": "code",
   "execution_count": 67,
   "metadata": {},
   "outputs": [],
   "source": [
    "lr_probs = rf.predict(X_test)\n",
    "ns_probs = [0 for _ in range(len(y_test))]\n",
    "#lr_probs = lr_probs[:, 1]"
   ]
  },
  {
   "cell_type": "code",
   "execution_count": 69,
   "metadata": {
    "scrolled": true
   },
   "outputs": [
    {
     "data": {
      "image/png": "[encoded data removed]",
      "text/plain": [
       "<Figure size 432x288 with 1 Axes>"
      ]
     },
     "metadata": {
      "needs_background": "light"
     },
     "output_type": "display_data"
    }
   ],
   "source": [
    "yhat = rf.predict(X_test)\n",
    "lr_precision, lr_recall, _ = precision_recall_curve(y_test, lr_probs)\n",
    "#lr_f1, lr_auc = f1_score(y_test, yhat), auc(lr_recall, lr_precision)\n",
    "# summarize scores\n",
    "#print('Logistic: f1=%.3f auc=%.3f' % (lr_f1, lr_auc))\n",
    "# plot the precision-recall curves\n",
    "no_skill = len(y_test[y_test==1]) / len(y_test)\n",
    "pyplot.plot([0, 1], [no_skill, no_skill], linestyle='--', label='No Skill')\n",
    "pyplot.plot(lr_recall, lr_precision, marker='.', label='Logistic', color='red')\n",
    "# axis labels\n",
    "pyplot.xlabel('Recall')\n",
    "pyplot.ylabel('Precision')\n",
    "# show the legend\n",
    "pyplot.legend()\n",
    "# show the plot\n",
    "pyplot.show()"
   ]
  },
  {
   "cell_type": "code",
   "execution_count": 154,
   "metadata": {},
   "outputs": [
    {
     "data": {
      "image/png": "[encoded data removed]",
      "text/plain": [
       "<Figure size 432x288 with 1 Axes>"
      ]
     },
     "metadata": {
      "needs_background": "light"
     },
     "output_type": "display_data"
    }
   ],
   "source": [
    "n_estimators = [1, 2, 4, 8, 16, 32, 64, 100]\n",
    "train_results = []\n",
    "test_results = []\n",
    "for estimator in n_estimators:\n",
    "   model = RandomForestClassifier(n_estimators=estimator)\n",
    "   model.fit(X_train, y_train)\n",
    "   train_pred = model.predict(X_train)\n",
    "   false_positive_rate, true_positive_rate, thresholds = roc_curve(y_train, train_pred)\n",
    "   roc_auc = auc(false_positive_rate, true_positive_rate)\n",
    "   train_results.append(roc_auc)\n",
    "   y_pred = model.predict(X_test)\n",
    "   false_positive_rate, true_positive_rate, thresholds = roc_curve(y_test, y_pred)\n",
    "   roc_auc = auc(false_positive_rate, true_positive_rate)\n",
    "   test_results.append(roc_auc)\n",
    "from matplotlib.legend_handler import HandlerLine2D\n",
    "line1, = plt.plot(n_estimators, train_results, 'b', label=\"Train AUC\")\n",
    "line2, = plt.plot(n_estimators, test_results, 'r', label=\"Test AUC\")\n",
    "plt.legend(handler_map={line1: HandlerLine2D(numpoints=2)})\n",
    "plt.ylabel('AUC score')\n",
    "plt.xlabel('n_estimators')\n",
    "plt.show()"
   ]
  },
  {
   "cell_type": "markdown",
   "metadata": {},
   "source": [
    "#### Gradient Boosting "
   ]
  },
  {
   "cell_type": "code",
   "execution_count": 71,
   "metadata": {},
   "outputs": [
    {
     "data": {
      "text/plain": [
       "GradientBoostingRegressor(alpha=0.9, ccp_alpha=0.0, criterion='friedman_mse',\n",
       "                          init=None, learning_rate=1.0, loss='ls', max_depth=13,\n",
       "                          max_features=None, max_leaf_nodes=None,\n",
       "                          min_impurity_decrease=0.0, min_impurity_split=None,\n",
       "                          min_samples_leaf=1, min_samples_split=2,\n",
       "                          min_weight_fraction_leaf=0.0, n_estimators=100,\n",
       "                          n_iter_no_change=None, presort='deprecated',\n",
       "                          random_state=None, subsample=1.0, tol=0.0001,\n",
       "                          validation_fraction=0.1, verbose=0, warm_start=False)"
      ]
     },
     "execution_count": 71,
     "metadata": {},
     "output_type": "execute_result"
    }
   ],
   "source": [
    "from sklearn.ensemble import GradientBoostingRegressor\n",
    "regressor = GradientBoostingRegressor(\n",
    "    max_depth=13,\n",
    "    n_estimators=100,\n",
    "    learning_rate=1.0\n",
    ")\n",
    "regressor.fit(X_train, y_train)"
   ]
  },
  {
   "cell_type": "code",
   "execution_count": 72,
   "metadata": {},
   "outputs": [],
   "source": [
    "from sklearn.metrics import classification_report, confusion_matrix\n",
    "from sklearn.ensemble import GradientBoostingClassifier\n",
    "#errors = [mean_squared_error(y_test, y_pred) for y_pred in regressor.staged_predict(X_test)]\n",
    "#best_n_estimators = np.argmin(errors)"
   ]
  },
  {
   "cell_type": "code",
   "execution_count": 73,
   "metadata": {},
   "outputs": [
    {
     "name": "stdout",
     "output_type": "stream",
     "text": [
      "Learning rate:  0.05\n",
      "Accuracy score (training): 0.811\n",
      "Accuracy score (validation): 0.798\n",
      "Learning rate:  0.075\n",
      "Accuracy score (training): 0.811\n",
      "Accuracy score (validation): 0.798\n",
      "Learning rate:  0.1\n",
      "Accuracy score (training): 0.811\n",
      "Accuracy score (validation): 0.798\n",
      "Learning rate:  0.25\n",
      "Accuracy score (training): 0.811\n",
      "Accuracy score (validation): 0.798\n",
      "Learning rate:  0.5\n",
      "Accuracy score (training): 0.812\n",
      "Accuracy score (validation): 0.799\n",
      "Learning rate:  0.75\n",
      "Accuracy score (training): 0.811\n",
      "Accuracy score (validation): 0.798\n",
      "Learning rate:  1\n",
      "Accuracy score (training): 0.811\n",
      "Accuracy score (validation): 0.799\n"
     ]
    }
   ],
   "source": [
    "lr_list = [0.05, 0.075, 0.1, 0.25, 0.5, 0.75, 1]\n",
    "\n",
    "for learning_rate in lr_list:\n",
    "    gb_clf = GradientBoostingClassifier(n_estimators=20, learning_rate=learning_rate, max_features=2, max_depth=2, random_state=0)\n",
    "    gb_clf.fit(X_train, y_train)\n",
    "\n",
    "    print(\"Learning rate: \", learning_rate)\n",
    "    print(\"Accuracy score (training): {0:.3f}\".format(gb_clf.score(X_train, y_train)))\n",
    "    print(\"Accuracy score (validation): {0:.3f}\".format(gb_clf.score(X_test, y_test)))"
   ]
  },
  {
   "cell_type": "code",
   "execution_count": 74,
   "metadata": {},
   "outputs": [],
   "source": [
    "lr_probs = gb_clf.predict_proba(X_test)\n",
    "ns_probs = [0 for _ in range(len(y_test))]\n",
    "lr_probs = lr_probs[:, 1]"
   ]
  },
  {
   "cell_type": "code",
   "execution_count": 75,
   "metadata": {},
   "outputs": [],
   "source": [
    "from sklearn.metrics import roc_curve\n",
    "from sklearn.metrics import roc_auc_score\n",
    "from matplotlib import pyplot\n",
    "#lr_probs = lr_probs[:, 1]\n",
    "# calculate scores\n",
    "#ns_auc = roc_auc_score(y_test, ns_probs)\n",
    "lr_auc = roc_auc_score(y_test, lr_probs)\n",
    "ns_auc = roc_auc_score(y_test, ns_probs)"
   ]
  },
  {
   "cell_type": "code",
   "execution_count": 76,
   "metadata": {},
   "outputs": [
    {
     "name": "stdout",
     "output_type": "stream",
     "text": [
      "No Skill: ROC AUC=0.500\n",
      "Logistic: ROC AUC=0.679\n"
     ]
    }
   ],
   "source": [
    "print('No Skill: ROC AUC=%.3f' % (ns_auc))\n",
    "print('Logistic: ROC AUC=%.3f' % (lr_auc))"
   ]
  },
  {
   "cell_type": "code",
   "execution_count": 77,
   "metadata": {},
   "outputs": [],
   "source": [
    "ns_fpr, ns_tpr, _ = roc_curve(y_test, ns_probs)\n",
    "lr_fpr, lr_tpr, _ = roc_curve(y_test, lr_probs)"
   ]
  },
  {
   "cell_type": "code",
   "execution_count": 81,
   "metadata": {},
   "outputs": [
    {
     "data": {
      "image/png": "[encoded data removed]",
      "text/plain": [
       "<Figure size 432x288 with 1 Axes>"
      ]
     },
     "metadata": {
      "needs_background": "light"
     },
     "output_type": "display_data"
    }
   ],
   "source": [
    "pyplot.plot(ns_fpr, ns_tpr, linestyle='--', label='No Skill')\n",
    "pyplot.plot(lr_fpr, lr_tpr, marker='.', label='Logistic', color='green')\n",
    "pyplot.xlabel('False Positive Rate')\n",
    "pyplot.ylabel('True Positive Rate')\n",
    "# show the legend\n",
    "pyplot.legend()\n",
    "# show the plot\n",
    "pyplot.show()"
   ]
  },
  {
   "cell_type": "code",
   "execution_count": 82,
   "metadata": {},
   "outputs": [],
   "source": [
    "from sklearn.metrics import precision_recall_curve\n",
    "from sklearn.metrics import f1_score\n",
    "from sklearn.metrics import auc\n",
    "from matplotlib import pyplot\n",
    "from sklearn.datasets import make_classification"
   ]
  },
  {
   "cell_type": "code",
   "execution_count": 83,
   "metadata": {},
   "outputs": [
    {
     "name": "stdout",
     "output_type": "stream",
     "text": [
      "Logistic: f1=0.886 auc=0.881\n"
     ]
    },
    {
     "data": {
      "image/png": "[encoded data removed]",
      "text/plain": [
       "<Figure size 432x288 with 1 Axes>"
      ]
     },
     "metadata": {
      "needs_background": "light"
     },
     "output_type": "display_data"
    }
   ],
   "source": [
    "lr_probs = gb_clf.predict_proba(X_test)\n",
    "# keep probabilities for the positive outcome only\n",
    "lr_probs = lr_probs[:, 1]\n",
    "# predict class values\n",
    "yhat = gb_clf.predict(X_test)\n",
    "lr_precision, lr_recall, _ = precision_recall_curve(y_test, lr_probs)\n",
    "lr_f1, lr_auc = f1_score(y_test, yhat), auc(lr_recall, lr_precision)\n",
    "# summarize scores\n",
    "print('Logistic: f1=%.3f auc=%.3f' % (lr_f1, lr_auc))\n",
    "# plot the precision-recall curves\n",
    "no_skill = len(y_test[y_test==1]) / len(y_test)\n",
    "pyplot.plot([0, 1], [no_skill, no_skill], linestyle='--', label='No Skill')\n",
    "pyplot.plot(lr_recall, lr_precision, marker='.', label='Logistic', color = 'green')\n",
    "# axis labels\n",
    "pyplot.xlabel('Recall')\n",
    "pyplot.ylabel('Precision')\n",
    "# show the legend\n",
    "pyplot.legend()\n",
    "# show the plot\n",
    "pyplot.show()"
   ]
  },
  {
   "cell_type": "code",
   "execution_count": 84,
   "metadata": {},
   "outputs": [
    {
     "data": {
      "image/png": "[encoded data removed]",
      "text/plain": [
       "<Figure size 432x288 with 1 Axes>"
      ]
     },
     "metadata": {
      "needs_background": "light"
     },
     "output_type": "display_data"
    }
   ],
   "source": [
    "n_estimators = [1, 2, 4, 8, 16, 32, 64, 100, 200]\n",
    "train_results = []\n",
    "test_results = []\n",
    "for estimator in n_estimators:\n",
    "   model = GradientBoostingClassifier(n_estimators=estimator)\n",
    "   model.fit(X_train, y_train)\n",
    "   train_pred = model.predict(X_train)\n",
    "   false_positive_rate, true_positive_rate, thresholds = roc_curve(y_train, train_pred)\n",
    "   roc_auc = auc(false_positive_rate, true_positive_rate)\n",
    "   train_results.append(roc_auc)\n",
    "   y_pred = model.predict(X_test)\n",
    "   false_positive_rate, true_positive_rate, thresholds = roc_curve(y_test, y_pred)\n",
    "   roc_auc = auc(false_positive_rate, true_positive_rate)\n",
    "   test_results.append(roc_auc)\n",
    "from matplotlib.legend_handler import HandlerLine2D\n",
    "line1, = plt.plot(n_estimators, train_results, 'b', label=\"Train AUC\", color='green')\n",
    "line2, = plt.plot(n_estimators, test_results, 'r', label=\"Test AUC\")\n",
    "plt.legend(handler_map={line1: HandlerLine2D(numpoints=2)})\n",
    "plt.ylabel('AUC score')\n",
    "plt.xlabel('n_estimators')\n",
    "plt.show()"
   ]
  },
  {
   "cell_type": "code",
   "execution_count": 86,
   "metadata": {},
   "outputs": [
    {
     "data": {
      "image/png": "[encoded data removed]",
      "text/plain": [
       "<Figure size 432x288 with 1 Axes>"
      ]
     },
     "metadata": {
      "needs_background": "light"
     },
     "output_type": "display_data"
    }
   ],
   "source": [
    "max_depths = np.linspace(1, 32, 32, endpoint=True)\n",
    "train_results = []\n",
    "test_results = []\n",
    "for max_depth in max_depths:\n",
    "   model = GradientBoostingClassifier(max_depth=max_depth)\n",
    "   model.fit(X_train, y_train)\n",
    "   train_pred = model.predict(X_train)\n",
    "   false_positive_rate, true_positive_rate, thresholds = roc_curve(y_train, train_pred)\n",
    "   roc_auc = auc(false_positive_rate, true_positive_rate)\n",
    "   train_results.append(roc_auc)\n",
    "   y_pred = model.predict(X_test)\n",
    "   false_positive_rate, true_positive_rate, thresholds = roc_curve(y_test, y_pred)\n",
    "   roc_auc = auc(false_positive_rate, true_positive_rate)\n",
    "   test_results.append(roc_auc)\n",
    "from matplotlib.legend_handler import HandlerLine2D\n",
    "line1, = plt.plot(max_depths, train_results, 'b', label=\"Train AUC\", color='green')\n",
    "line2, = plt.plot(max_depths, test_results, 'r', label=\"Test AUC\")\n",
    "plt.legend(handler_map={line1: HandlerLine2D(numpoints=2)})\n",
    "plt.ylabel('AUC score')\n",
    "plt.xlabel('Tree depth')\n",
    "plt.show()"
   ]
  },
  {
   "cell_type": "code",
   "execution_count": 85,
   "metadata": {},
   "outputs": [
    {
     "data": {
      "image/png": "[encoded data removed]",
      "text/plain": [
       "<Figure size 432x288 with 1 Axes>"
      ]
     },
     "metadata": {
      "needs_background": "light"
     },
     "output_type": "display_data"
    }
   ],
   "source": [
    "learning_rates = [1, 0.5, 0.25, 0.1, 0.05, 0.01]\n",
    "train_results = []\n",
    "test_results = []\n",
    "for eta in learning_rates:\n",
    "   model = GradientBoostingClassifier(learning_rate=eta)\n",
    "   model.fit(X_train, y_train)\n",
    "   train_pred = model.predict(X_train)\n",
    "   false_positive_rate, true_positive_rate, thresholds = roc_curve(y_train, train_pred)\n",
    "   roc_auc = auc(false_positive_rate, true_positive_rate)\n",
    "   train_results.append(roc_auc)\n",
    "   y_pred = model.predict(X_test)\n",
    "   false_positive_rate, true_positive_rate, thresholds = roc_curve(y_test, y_pred)\n",
    "   roc_auc = auc(false_positive_rate, true_positive_rate)\n",
    "   test_results.append(roc_auc)\n",
    "from matplotlib.legend_handler import HandlerLine2D\n",
    "line1, = plt.plot(learning_rates, train_results, 'b', label=\"Train AUC\", color='green')\n",
    "line2, = plt.plot(learning_rates, test_results, 'r', label=\"Test AUC\")\n",
    "plt.legend(handler_map={line1: HandlerLine2D(numpoints=2)})\n",
    "plt.ylabel('AUC score')\n",
    "plt.xlabel('learning rate')\n",
    "plt.show()"
   ]
  },
  {
   "cell_type": "markdown",
   "metadata": {},
   "source": [
    "### Elastic Net"
   ]
  },
  {
   "cell_type": "code",
   "execution_count": 87,
   "metadata": {},
   "outputs": [],
   "source": [
    "from sklearn.linear_model import ElasticNetCV\n",
    "from sklearn.datasets import make_regression\n",
    "from sklearn.linear_model import ElasticNet\n",
    "from sklearn.metrics import mean_squared_error"
   ]
  },
  {
   "cell_type": "markdown",
   "metadata": {},
   "source": [
    "In this model, the alphas represent the variation of the best alpha fot got pur model, we will define multiple valyes and check the performance accuracy.\n",
    "\n",
    "In the model function, we define ElasticNet model by setting alpha and train it with x and y data. Then we will check the R- Squared, MSE and RMSE metrics for each alpha."
   ]
  },
  {
   "cell_type": "code",
   "execution_count": 88,
   "metadata": {},
   "outputs": [],
   "source": [
    "alphas = [0.0001, 0.001, 0.01, 0.1, 0.3, 0.5, 0.7, 1]"
   ]
  },
  {
   "cell_type": "code",
   "execution_count": 89,
   "metadata": {},
   "outputs": [
    {
     "name": "stdout",
     "output_type": "stream",
     "text": [
      "Alpha:0.0001, R2:0.09, MSE:0.14, RMSE:0.37\n",
      "Alpha:0.0010, R2:0.09, MSE:0.14, RMSE:0.37\n",
      "Alpha:0.0100, R2:0.07, MSE:0.14, RMSE:0.38\n",
      "Alpha:0.1000, R2:0.02, MSE:0.15, RMSE:0.39\n",
      "Alpha:0.3000, R2:0.02, MSE:0.15, RMSE:0.39\n",
      "Alpha:0.5000, R2:0.02, MSE:0.15, RMSE:0.39\n",
      "Alpha:0.7000, R2:0.01, MSE:0.15, RMSE:0.39\n",
      "Alpha:1.0000, R2:0.01, MSE:0.15, RMSE:0.39\n"
     ]
    }
   ],
   "source": [
    "for a in alphas:\n",
    "    model = ElasticNet(alpha=a).fit(X_train, y_train)   \n",
    "    score = model.score(X_train, y_train)\n",
    "    pred_y = model.predict(X_train)\n",
    "    mse = mean_squared_error(y_train, pred_y)   \n",
    "    print(\"Alpha:{0:.4f}, R2:{1:.2f}, MSE:{2:.2f}, RMSE:{3:.2f}\"\n",
    "       .format(a, score, mse, np.sqrt(mse)))"
   ]
  },
  {
   "cell_type": "code",
   "execution_count": 90,
   "metadata": {},
   "outputs": [
    {
     "name": "stdout",
     "output_type": "stream",
     "text": [
      "R2:0.009, MSE:0.16, RMSE:0.40\n"
     ]
    }
   ],
   "source": [
    "elastic=ElasticNet(alpha=0.7).fit(X_train, y_train)\n",
    "ypred = elastic.predict(X_test)\n",
    "score = elastic.score(X_test, y_test)\n",
    "mse = mean_squared_error(y_test, ypred)\n",
    "print(\"R2:{0:.3f}, MSE:{1:.2f}, RMSE:{2:.2f}\"\n",
    "      .format(score, mse, np.sqrt(mse)))"
   ]
  },
  {
   "cell_type": "markdown",
   "metadata": {},
   "source": [
    "------ElasticNetCV-------------\n",
    "\n",
    "cross validation with elastic net CV- can search multiple alpha values and applies the best one. We'll define the model with alphas and fit it with x and y train."
   ]
  },
  {
   "cell_type": "code",
   "execution_count": 93,
   "metadata": {},
   "outputs": [
    {
     "name": "stdout",
     "output_type": "stream",
     "text": [
      "0.0001\n",
      "0.7648964428356144\n"
     ]
    }
   ],
   "source": [
    "elastic_cv=ElasticNetCV(alphas=alphas, cv=5)\n",
    "model = elastic_cv.fit(X_train, y_train)\n",
    "print(model.alpha_)\n",
    "print(model.intercept_)"
   ]
  },
  {
   "cell_type": "code",
   "execution_count": 94,
   "metadata": {},
   "outputs": [
    {
     "name": "stdout",
     "output_type": "stream",
     "text": [
      "R2:0.090, MSE:0.15, RMSE:0.38\n"
     ]
    }
   ],
   "source": [
    "ypred = model.predict(X_test)\n",
    "score = model.score(X_test, y_test)\n",
    "mse = mean_squared_error(y_test, ypred)\n",
    "print(\"R2:{0:.3f}, MSE:{1:.2f}, RMSE:{2:.2f}\"\n",
    "      .format(score, mse, np.sqrt(mse)))"
   ]
  },
  {
   "cell_type": "code",
   "execution_count": 95,
   "metadata": {},
   "outputs": [
    {
     "data": {
      "image/png": "[encoded data removed]",
      "text/plain": [
       "<Figure size 432x288 with 1 Axes>"
      ]
     },
     "metadata": {
      "needs_background": "light"
     },
     "output_type": "display_data"
    }
   ],
   "source": [
    "x_ax = range(len(X_test))\n",
    "plt.scatter(x_ax, y_test, s=5, color=\"blue\", label=\"original\")\n",
    "plt.plot(x_ax, ypred, lw=0.8, color=\"red\", label=\"predicted\")\n",
    "plt.legend()\n",
    "plt.show()"
   ]
  },
  {
   "cell_type": "code",
   "execution_count": 96,
   "metadata": {},
   "outputs": [],
   "source": [
    "lr_probs = elastic_cv.predict(X_test)\n",
    "ns_probs = [0 for _ in range(len(y_test))]\n",
    "#lr_probs = lr_probs[:, 1]"
   ]
  },
  {
   "cell_type": "code",
   "execution_count": 97,
   "metadata": {},
   "outputs": [],
   "source": [
    "from sklearn.metrics import roc_curve\n",
    "from sklearn.metrics import roc_auc_score\n",
    "from matplotlib import pyplot\n",
    "#lr_probs = lr_probs[:, 1]\n",
    "# calculate scores\n",
    "#ns_auc = roc_auc_score(y_test, ns_probs)\n",
    "lr_auc = roc_auc_score(y_test, lr_probs)\n",
    "ns_auc = roc_auc_score(y_test, ns_probs)"
   ]
  },
  {
   "cell_type": "code",
   "execution_count": 98,
   "metadata": {},
   "outputs": [
    {
     "name": "stdout",
     "output_type": "stream",
     "text": [
      "No Skill: ROC AUC=0.500\n",
      "Logistic: ROC AUC=0.712\n"
     ]
    }
   ],
   "source": [
    "print('No Skill: ROC AUC=%.3f' % (ns_auc))\n",
    "print('Logistic: ROC AUC=%.3f' % (lr_auc))"
   ]
  },
  {
   "cell_type": "code",
   "execution_count": 99,
   "metadata": {},
   "outputs": [],
   "source": [
    "ns_fpr, ns_tpr, _ = roc_curve(y_test, ns_probs)\n",
    "lr_fpr, lr_tpr, _ = roc_curve(y_test, lr_probs)"
   ]
  },
  {
   "cell_type": "code",
   "execution_count": 104,
   "metadata": {},
   "outputs": [
    {
     "data": {
      "image/png": "[encoded data removed]",
      "text/plain": [
       "<Figure size 432x288 with 1 Axes>"
      ]
     },
     "metadata": {
      "needs_background": "light"
     },
     "output_type": "display_data"
    }
   ],
   "source": [
    "pyplot.plot(ns_fpr, ns_tpr, linestyle='--', label='No Skill')\n",
    "pyplot.plot(lr_fpr, lr_tpr, marker='.', label='Logistic', color = 'orange')\n",
    "pyplot.xlabel('False Positive Rate')\n",
    "pyplot.ylabel('True Positive Rate')\n",
    "# show the legend\n",
    "pyplot.legend()\n",
    "# show the plot\n",
    "pyplot.show()"
   ]
  },
  {
   "cell_type": "code",
   "execution_count": 105,
   "metadata": {},
   "outputs": [
    {
     "data": {
      "image/png": "[encoded data removed]",
      "text/plain": [
       "<Figure size 432x288 with 1 Axes>"
      ]
     },
     "metadata": {
      "needs_background": "light"
     },
     "output_type": "display_data"
    }
   ],
   "source": [
    "#lr_probs = elastic.predict_proba(X_test)\n",
    "# keep probabilities for the positive outcome only\n",
    "#lr_probs = lr_probs[:, 1]\n",
    "# predict class values\n",
    "yhat = elastic_cv.predict(X_test)\n",
    "lr_precision, lr_recall, _ = precision_recall_curve(y_test, lr_probs)\n",
    "#lr_f1, lr_auc = f1_score(y_test, yhat), auc(lr_recall, lr_precision)\n",
    "# summarize scores\n",
    "#print('Logistic: f1=%.3f auc=%.3f' % (lr_f1, lr_auc))\n",
    "# plot the precision-recall curves\n",
    "no_skill = len(y_test[y_test==1]) / len(y_test)\n",
    "pyplot.plot([0, 1], [no_skill, no_skill], linestyle='--', label='No Skill')\n",
    "pyplot.plot(lr_recall, lr_precision, marker='.', label='Logistic', color = 'orange')\n",
    "# axis labels\n",
    "pyplot.xlabel('Recall')\n",
    "pyplot.ylabel('Precision')\n",
    "# show the legend\n",
    "pyplot.legend()\n",
    "# show the plot\n",
    "pyplot.show()"
   ]
  },
  {
   "cell_type": "code",
   "execution_count": 103,
   "metadata": {},
   "outputs": [
    {
     "data": {
      "image/png": "[encoded data removed]",
      "text/plain": [
       "<Figure size 432x288 with 1 Axes>"
      ]
     },
     "metadata": {
      "needs_background": "light"
     },
     "output_type": "display_data"
    }
   ],
   "source": [
    "alphas = [ 0.7, 1, 10, 100, 200]\n",
    "train_results = []\n",
    "test_results = []\n",
    "for a in alphas:\n",
    "   model = ElasticNetCV(alphas)\n",
    "   model.fit(X_train, y_train)\n",
    "   train_pred = model.predict(X_train)\n",
    "   false_positive_rate, true_positive_rate, thresholds = roc_curve(y_train, train_pred)\n",
    "   roc_auc = auc(false_positive_rate, true_positive_rate)\n",
    "   train_results.append(roc_auc)\n",
    "   y_pred = model.predict(X_test)\n",
    "   false_positive_rate, true_positive_rate, thresholds = roc_curve(y_test, y_pred)\n",
    "   roc_auc = auc(false_positive_rate, true_positive_rate)\n",
    "   test_results.append(roc_auc)\n",
    "from matplotlib.legend_handler import HandlerLine2D\n",
    "line1, = plt.plot(alphas, train_results, 'b', label=\"Train AUC\")\n",
    "line2, = plt.plot(alphas, test_results, 'r', label=\"Test AUC\")\n",
    "plt.legend(handler_map={line1: HandlerLine2D(numpoints=2)})\n",
    "plt.ylabel('AUC score')\n",
    "plt.xlabel('Alpha')\n",
    "plt.show()"
   ]
  },
  {
   "cell_type": "code",
   "execution_count": 101,
   "metadata": {},
   "outputs": [
    {
     "name": "stdout",
     "output_type": "stream",
     "text": [
      "Best alpha= 1\n"
     ]
    }
   ],
   "source": [
    "best_alpha_ind=np.argmax(alphas)\n",
    "print(\"Best alpha=\",alphas[best_alpha_ind])"
   ]
  },
  {
   "cell_type": "markdown",
   "metadata": {},
   "source": [
    "### Deep Learning"
   ]
  },
  {
   "cell_type": "markdown",
   "metadata": {},
   "source": [
    "1) Helix neural network: Standard neural network structure that have been continued throgh space using different values of shared weights\n",
    "2) Repeated neural network: continues through time via using edges that are delievered into the following time ste rather than feeding into the adjoining layer at the following step \n",
    "3) Repeated NN: hierarchical NN that don't incude a time prospect to the inputted entity bu may have inputs need to be processed in a hierarchical prospect like as tree\n",
    "4) A standard deep NN which includes a vairation layer with differnt typed without a particulat order or any repetition"
   ]
  },
  {
   "cell_type": "code",
   "execution_count": 51,
   "metadata": {},
   "outputs": [],
   "source": [
    "import pandas as pd\n",
    "import numpy as np \n",
    "import matplotlib.pyplot as plt\n",
    "import sklearn\n",
    "from sklearn.neural_network import MLPClassifier\n",
    "from sklearn.neural_network import MLPRegressor\n",
    "\n",
    "# Import necessary modules\n",
    "from sklearn.model_selection import train_test_split\n",
    "from sklearn.metrics import mean_squared_error\n",
    "from math import sqrt\n",
    "from sklearn.metrics import r2_score"
   ]
  },
  {
   "cell_type": "code",
   "execution_count": 52,
   "metadata": {},
   "outputs": [
    {
     "name": "stdout",
     "output_type": "stream",
     "text": [
      "(36173, 54)\n",
      "(9044, 54)\n"
     ]
    }
   ],
   "source": [
    "print(X_train.shape); print(X_test.shape)"
   ]
  },
  {
   "cell_type": "code",
   "execution_count": 53,
   "metadata": {},
   "outputs": [
    {
     "ename": "ModuleNotFoundError",
     "evalue": "No module named 'keras'",
     "output_type": "error",
     "traceback": [
      "\u001b[1;31m---------------------------------------------------------------------------\u001b[0m",
      "\u001b[1;31mModuleNotFoundError\u001b[0m                       Traceback (most recent call last)",
      "\u001b[1;32m<ipython-input-53-073e043ef4ff>\u001b[0m in \u001b[0;36m<module>\u001b[1;34m\u001b[0m\n\u001b[0;32m      1\u001b[0m \u001b[1;32mimport\u001b[0m \u001b[0mos\u001b[0m\u001b[1;33m,\u001b[0m \u001b[0msys\u001b[0m\u001b[1;33m,\u001b[0m \u001b[0mre\u001b[0m\u001b[1;33m\u001b[0m\u001b[1;33m\u001b[0m\u001b[0m\n\u001b[1;32m----> 2\u001b[1;33m \u001b[1;32mfrom\u001b[0m \u001b[0mkeras\u001b[0m\u001b[1;33m.\u001b[0m\u001b[0mmodels\u001b[0m \u001b[1;32mimport\u001b[0m \u001b[0mSequential\u001b[0m\u001b[1;33m\u001b[0m\u001b[1;33m\u001b[0m\u001b[0m\n\u001b[0m\u001b[0;32m      3\u001b[0m \u001b[1;32mfrom\u001b[0m \u001b[0mkeras\u001b[0m\u001b[1;33m.\u001b[0m\u001b[0mlayers\u001b[0m \u001b[1;32mimport\u001b[0m \u001b[0mDense\u001b[0m\u001b[1;33m\u001b[0m\u001b[1;33m\u001b[0m\u001b[0m\n\u001b[0;32m      4\u001b[0m \u001b[1;32mimport\u001b[0m \u001b[0mtime\u001b[0m\u001b[1;33m\u001b[0m\u001b[1;33m\u001b[0m\u001b[0m\n\u001b[0;32m      5\u001b[0m \u001b[1;32mimport\u001b[0m \u001b[0mnumpy\u001b[0m \u001b[1;32mas\u001b[0m \u001b[0mnp\u001b[0m\u001b[1;33m\u001b[0m\u001b[1;33m\u001b[0m\u001b[0m\n",
      "\u001b[1;31mModuleNotFoundError\u001b[0m: No module named 'keras'"
     ]
    }
   ],
   "source": [
    "import os, sys, re\n",
    "from keras.models import Sequential\n",
    "from keras.layers import Dense\n",
    "import time\n",
    "import numpy as np\n",
    "import pandas as pd"
   ]
  },
  {
   "cell_type": "code",
   "execution_count": 54,
   "metadata": {},
   "outputs": [
    {
     "ename": "NameError",
     "evalue": "name 'Sequential' is not defined",
     "output_type": "error",
     "traceback": [
      "\u001b[1;31m---------------------------------------------------------------------------\u001b[0m",
      "\u001b[1;31mNameError\u001b[0m                                 Traceback (most recent call last)",
      "\u001b[1;32m<ipython-input-54-18b089e36030>\u001b[0m in \u001b[0;36m<module>\u001b[1;34m\u001b[0m\n\u001b[0;32m      1\u001b[0m \u001b[1;31m# Create the model\u001b[0m\u001b[1;33m\u001b[0m\u001b[1;33m\u001b[0m\u001b[1;33m\u001b[0m\u001b[0m\n\u001b[1;32m----> 2\u001b[1;33m \u001b[0mmodel\u001b[0m \u001b[1;33m=\u001b[0m \u001b[0mSequential\u001b[0m\u001b[1;33m(\u001b[0m\u001b[1;33m)\u001b[0m\u001b[1;33m\u001b[0m\u001b[1;33m\u001b[0m\u001b[0m\n\u001b[0m\u001b[0;32m      3\u001b[0m \u001b[1;33m\u001b[0m\u001b[0m\n\u001b[0;32m      4\u001b[0m \u001b[1;31m# Define the four layered model\u001b[0m\u001b[1;33m\u001b[0m\u001b[1;33m\u001b[0m\u001b[1;33m\u001b[0m\u001b[0m\n\u001b[0;32m      5\u001b[0m \u001b[0mmodel\u001b[0m\u001b[1;33m.\u001b[0m\u001b[0madd\u001b[0m\u001b[1;33m(\u001b[0m\u001b[0mDense\u001b[0m\u001b[1;33m(\u001b[0m\u001b[1;36m110\u001b[0m\u001b[1;33m,\u001b[0m \u001b[0minput_dim\u001b[0m \u001b[1;33m=\u001b[0m \u001b[1;36m54\u001b[0m\u001b[1;33m,\u001b[0m \u001b[0mkernel_initializer\u001b[0m \u001b[1;33m=\u001b[0m \u001b[1;34m\"uniform\"\u001b[0m\u001b[1;33m,\u001b[0m \u001b[0mactivation\u001b[0m \u001b[1;33m=\u001b[0m \u001b[1;34m\"relu\"\u001b[0m\u001b[1;33m)\u001b[0m\u001b[1;33m)\u001b[0m\u001b[1;33m\u001b[0m\u001b[1;33m\u001b[0m\u001b[0m\n",
      "\u001b[1;31mNameError\u001b[0m: name 'Sequential' is not defined"
     ]
    }
   ],
   "source": [
    "# Create the model \n",
    "model = Sequential()\n",
    "\n",
    "# Define the four layered model\n",
    "model.add(Dense(110, input_dim = 54, kernel_initializer = \"uniform\", activation = \"relu\"))\n",
    "model.add(Dense(110, kernel_initializer = \"uniform\", activation = \"relu\"))\n",
    "model.add(Dense(110, kernel_initializer = \"uniform\", activation = \"relu\"))\n",
    "model.add(Dense(1, kernel_initializer = \"uniform\", activation = \"sigmoid\"))\n",
    "\n",
    "# Compile the model\n",
    "model.compile(loss=\"binary_crossentropy\", optimizer= \"adam\", metrics=['accuracy'])\n",
    "#"
   ]
  },
  {
   "cell_type": "code",
   "execution_count": 174,
   "metadata": {},
   "outputs": [],
   "source": [
    "# Compile the model\n",
    "model.compile(loss=\"binary_crossentropy\", optimizer= \"adam\", metrics=['accuracy'])\n",
    "#"
   ]
  },
  {
   "cell_type": "code",
   "execution_count": 112,
   "metadata": {},
   "outputs": [
    {
     "name": "stdout",
     "output_type": "stream",
     "text": [
      "Epoch 1/220\n",
      "36173/36173 [==============================] - 0s 11us/step - loss: 2.2845 - accuracy: 0.7576\n",
      "Epoch 2/220\n",
      "36173/36173 [==============================] - 0s 9us/step - loss: 0.4950 - accuracy: 0.8101\n",
      "Epoch 3/220\n",
      "36173/36173 [==============================] - 0s 9us/step - loss: 0.5021 - accuracy: 0.8085\n",
      "Epoch 4/220\n",
      "36173/36173 [==============================] - 0s 9us/step - loss: 0.4859 - accuracy: 0.8105\n",
      "Epoch 5/220\n",
      "36173/36173 [==============================] - 0s 9us/step - loss: 0.4846 - accuracy: 0.8102\n",
      "Epoch 6/220\n",
      "36173/36173 [==============================] - 0s 9us/step - loss: 0.4792 - accuracy: 0.8106\n",
      "Epoch 7/220\n",
      "36173/36173 [==============================] - 0s 9us/step - loss: 0.4782 - accuracy: 0.8105\n",
      "Epoch 8/220\n",
      "36173/36173 [==============================] - 0s 9us/step - loss: 0.4856 - accuracy: 0.8105\n",
      "Epoch 9/220\n",
      "36173/36173 [==============================] - 0s 9us/step - loss: 0.4775 - accuracy: 0.8106\n",
      "Epoch 10/220\n",
      "36173/36173 [==============================] - 0s 9us/step - loss: 0.4766 - accuracy: 0.8106\n",
      "Epoch 11/220\n",
      "36173/36173 [==============================] - 0s 14us/step - loss: 0.4784 - accuracy: 0.8106\n",
      "Epoch 12/220\n",
      "36173/36173 [==============================] - 0s 13us/step - loss: 0.4770 - accuracy: 0.8106\n",
      "Epoch 13/220\n",
      "36173/36173 [==============================] - 0s 9us/step - loss: 0.4780 - accuracy: 0.8106\n",
      "Epoch 14/220\n",
      "36173/36173 [==============================] - 0s 9us/step - loss: 0.4773 - accuracy: 0.8106\n",
      "Epoch 15/220\n",
      "36173/36173 [==============================] - 0s 9us/step - loss: 0.4760 - accuracy: 0.8106\n",
      "Epoch 16/220\n",
      "36173/36173 [==============================] - 0s 9us/step - loss: 0.4778 - accuracy: 0.8106\n",
      "Epoch 17/220\n",
      "36173/36173 [==============================] - 0s 9us/step - loss: 0.4781 - accuracy: 0.8106\n",
      "Epoch 18/220\n",
      "36173/36173 [==============================] - 0s 9us/step - loss: 0.4764 - accuracy: 0.8106\n",
      "Epoch 19/220\n",
      "36173/36173 [==============================] - 0s 9us/step - loss: 0.4757 - accuracy: 0.8106\n",
      "Epoch 20/220\n",
      "36173/36173 [==============================] - 0s 9us/step - loss: 0.4772 - accuracy: 0.8106\n",
      "Epoch 21/220\n",
      "36173/36173 [==============================] - 0s 9us/step - loss: 0.4783 - accuracy: 0.8106\n",
      "Epoch 22/220\n",
      "36173/36173 [==============================] - 0s 9us/step - loss: 0.4801 - accuracy: 0.8090\n",
      "Epoch 23/220\n",
      "36173/36173 [==============================] - 0s 9us/step - loss: 0.4783 - accuracy: 0.8102\n",
      "Epoch 24/220\n",
      "36173/36173 [==============================] - 0s 9us/step - loss: 0.4772 - accuracy: 0.8106\n",
      "Epoch 25/220\n",
      "36173/36173 [==============================] - 0s 9us/step - loss: 0.4755 - accuracy: 0.8106\n",
      "Epoch 26/220\n",
      "36173/36173 [==============================] - 0s 9us/step - loss: 0.4760 - accuracy: 0.8106\n",
      "Epoch 27/220\n",
      "36173/36173 [==============================] - 0s 9us/step - loss: 0.4772 - accuracy: 0.8106\n",
      "Epoch 28/220\n",
      "36173/36173 [==============================] - 0s 9us/step - loss: 0.4758 - accuracy: 0.8106\n",
      "Epoch 29/220\n",
      "36173/36173 [==============================] - 0s 9us/step - loss: 0.4758 - accuracy: 0.8106\n",
      "Epoch 30/220\n",
      "36173/36173 [==============================] - 0s 9us/step - loss: 0.4756 - accuracy: 0.8106\n",
      "Epoch 31/220\n",
      "36173/36173 [==============================] - 0s 9us/step - loss: 0.4760 - accuracy: 0.8106\n",
      "Epoch 32/220\n",
      "36173/36173 [==============================] - 0s 9us/step - loss: 0.4761 - accuracy: 0.8106\n",
      "Epoch 33/220\n",
      "36173/36173 [==============================] - 0s 9us/step - loss: 0.4772 - accuracy: 0.8106\n",
      "Epoch 34/220\n",
      "36173/36173 [==============================] - 0s 9us/step - loss: 0.4743 - accuracy: 0.8106\n",
      "Epoch 35/220\n",
      "36173/36173 [==============================] - 0s 9us/step - loss: 0.4769 - accuracy: 0.8106\n",
      "Epoch 36/220\n",
      "36173/36173 [==============================] - 0s 9us/step - loss: 0.4742 - accuracy: 0.8104\n",
      "Epoch 37/220\n",
      "36173/36173 [==============================] - 0s 9us/step - loss: 0.5622 - accuracy: 0.7949\n",
      "Epoch 38/220\n",
      "36173/36173 [==============================] - 0s 9us/step - loss: 0.4854 - accuracy: 0.8106\n",
      "Epoch 39/220\n",
      "36173/36173 [==============================] - 0s 10us/step - loss: 0.4854 - accuracy: 0.8106\n",
      "Epoch 40/220\n",
      "36173/36173 [==============================] - 0s 9us/step - loss: 0.4854 - accuracy: 0.8106\n",
      "Epoch 41/220\n",
      "36173/36173 [==============================] - 0s 9us/step - loss: 0.4854 - accuracy: 0.8106\n",
      "Epoch 42/220\n",
      "36173/36173 [==============================] - 0s 9us/step - loss: 0.4854 - accuracy: 0.8106\n",
      "Epoch 43/220\n",
      "36173/36173 [==============================] - 0s 9us/step - loss: 0.4854 - accuracy: 0.8106\n",
      "Epoch 44/220\n",
      "36173/36173 [==============================] - 0s 9us/step - loss: 0.4854 - accuracy: 0.8106\n",
      "Epoch 45/220\n",
      "36173/36173 [==============================] - 0s 9us/step - loss: 0.4854 - accuracy: 0.8106\n",
      "Epoch 46/220\n",
      "36173/36173 [==============================] - 0s 9us/step - loss: 0.4854 - accuracy: 0.8106\n",
      "Epoch 47/220\n",
      "36173/36173 [==============================] - 0s 9us/step - loss: 0.4854 - accuracy: 0.8106\n",
      "Epoch 48/220\n",
      "36173/36173 [==============================] - 0s 9us/step - loss: 0.4854 - accuracy: 0.8106\n",
      "Epoch 49/220\n",
      "36173/36173 [==============================] - 0s 9us/step - loss: 0.4854 - accuracy: 0.8106\n",
      "Epoch 50/220\n",
      "36173/36173 [==============================] - 0s 9us/step - loss: 0.4854 - accuracy: 0.8106\n",
      "Epoch 51/220\n",
      "36173/36173 [==============================] - 0s 9us/step - loss: 0.4854 - accuracy: 0.8106\n",
      "Epoch 52/220\n",
      "36173/36173 [==============================] - 0s 9us/step - loss: 0.4855 - accuracy: 0.8106\n",
      "Epoch 53/220\n",
      "36173/36173 [==============================] - 0s 10us/step - loss: 0.4854 - accuracy: 0.8106\n",
      "Epoch 54/220\n",
      "36173/36173 [==============================] - 0s 12us/step - loss: 0.4854 - accuracy: 0.8106\n",
      "Epoch 55/220\n",
      "36173/36173 [==============================] - 0s 9us/step - loss: 0.4855 - accuracy: 0.8106\n",
      "Epoch 56/220\n",
      "36173/36173 [==============================] - 0s 9us/step - loss: 0.4854 - accuracy: 0.8106\n",
      "Epoch 57/220\n",
      "36173/36173 [==============================] - 0s 9us/step - loss: 0.4854 - accuracy: 0.8106\n",
      "Epoch 58/220\n",
      "36173/36173 [==============================] - 0s 9us/step - loss: 0.4854 - accuracy: 0.8106\n",
      "Epoch 59/220\n",
      "36173/36173 [==============================] - 0s 9us/step - loss: 0.4854 - accuracy: 0.8106\n",
      "Epoch 60/220\n",
      "36173/36173 [==============================] - 0s 10us/step - loss: 0.4854 - accuracy: 0.8106\n",
      "Epoch 61/220\n",
      "36173/36173 [==============================] - 0s 9us/step - loss: 0.4854 - accuracy: 0.8106\n",
      "Epoch 62/220\n",
      "36173/36173 [==============================] - 0s 9us/step - loss: 0.4854 - accuracy: 0.8106\n",
      "Epoch 63/220\n",
      "36173/36173 [==============================] - 0s 9us/step - loss: 0.4860 - accuracy: 0.8106\n",
      "Epoch 64/220\n",
      "36173/36173 [==============================] - 0s 9us/step - loss: 0.4854 - accuracy: 0.8106\n",
      "Epoch 65/220\n",
      "36173/36173 [==============================] - 0s 9us/step - loss: 0.4855 - accuracy: 0.8106\n",
      "Epoch 66/220\n",
      "36173/36173 [==============================] - 0s 9us/step - loss: 0.4855 - accuracy: 0.8106\n",
      "Epoch 67/220\n",
      "36173/36173 [==============================] - 0s 9us/step - loss: 0.4855 - accuracy: 0.8106\n",
      "Epoch 68/220\n",
      "36173/36173 [==============================] - 0s 9us/step - loss: 0.4855 - accuracy: 0.8106\n",
      "Epoch 69/220\n",
      "36173/36173 [==============================] - 0s 9us/step - loss: 0.4856 - accuracy: 0.8106\n",
      "Epoch 70/220\n",
      "36173/36173 [==============================] - 0s 9us/step - loss: 0.4855 - accuracy: 0.8106\n",
      "Epoch 71/220\n",
      "36173/36173 [==============================] - 0s 10us/step - loss: 0.4855 - accuracy: 0.8106\n",
      "Epoch 72/220\n",
      "36173/36173 [==============================] - 0s 10us/step - loss: 0.4855 - accuracy: 0.8106\n",
      "Epoch 73/220\n",
      "36173/36173 [==============================] - 0s 10us/step - loss: 0.4856 - accuracy: 0.8106\n",
      "Epoch 74/220\n",
      "36173/36173 [==============================] - 0s 10us/step - loss: 0.4855 - accuracy: 0.8106\n",
      "Epoch 75/220\n",
      "36173/36173 [==============================] - 0s 10us/step - loss: 0.4856 - accuracy: 0.8106\n",
      "Epoch 76/220\n",
      "36173/36173 [==============================] - 0s 10us/step - loss: 0.4856 - accuracy: 0.8106\n",
      "Epoch 77/220\n",
      "36173/36173 [==============================] - 0s 10us/step - loss: 0.4855 - accuracy: 0.8106\n",
      "Epoch 78/220\n",
      "36173/36173 [==============================] - 0s 9us/step - loss: 0.4855 - accuracy: 0.8106\n",
      "Epoch 79/220\n",
      "36173/36173 [==============================] - 0s 9us/step - loss: 0.4855 - accuracy: 0.8106\n",
      "Epoch 80/220\n",
      "36173/36173 [==============================] - 0s 9us/step - loss: 0.4855 - accuracy: 0.8106\n",
      "Epoch 81/220\n",
      "36173/36173 [==============================] - 0s 9us/step - loss: 0.4855 - accuracy: 0.8106\n",
      "Epoch 82/220\n",
      "36173/36173 [==============================] - 0s 9us/step - loss: 0.4855 - accuracy: 0.8106\n",
      "Epoch 83/220\n",
      "36173/36173 [==============================] - 0s 9us/step - loss: 0.4855 - accuracy: 0.8106\n",
      "Epoch 84/220\n",
      "36173/36173 [==============================] - 0s 9us/step - loss: 0.4855 - accuracy: 0.8106\n",
      "Epoch 85/220\n",
      "36173/36173 [==============================] - 0s 10us/step - loss: 0.4855 - accuracy: 0.8106\n",
      "Epoch 86/220\n",
      "36173/36173 [==============================] - 0s 9us/step - loss: 0.4855 - accuracy: 0.8106\n",
      "Epoch 87/220\n",
      "36173/36173 [==============================] - 0s 9us/step - loss: 0.4855 - accuracy: 0.8106\n",
      "Epoch 88/220\n",
      "36173/36173 [==============================] - 0s 9us/step - loss: 0.4855 - accuracy: 0.8106\n",
      "Epoch 89/220\n",
      "36173/36173 [==============================] - 0s 9us/step - loss: 0.4855 - accuracy: 0.8106\n",
      "Epoch 90/220\n",
      "36173/36173 [==============================] - 0s 9us/step - loss: 0.4855 - accuracy: 0.8106\n",
      "Epoch 91/220\n",
      "36173/36173 [==============================] - 0s 10us/step - loss: 0.4855 - accuracy: 0.8106\n",
      "Epoch 92/220\n",
      "36173/36173 [==============================] - 0s 9us/step - loss: 0.4855 - accuracy: 0.8106\n",
      "Epoch 93/220\n",
      "36173/36173 [==============================] - 0s 9us/step - loss: 0.4856 - accuracy: 0.8106\n",
      "Epoch 94/220\n",
      "36173/36173 [==============================] - 0s 9us/step - loss: 0.4854 - accuracy: 0.8106\n",
      "Epoch 95/220\n",
      "36173/36173 [==============================] - 0s 9us/step - loss: 0.4856 - accuracy: 0.8106\n",
      "Epoch 96/220\n",
      "36173/36173 [==============================] - 0s 9us/step - loss: 0.4855 - accuracy: 0.8106\n",
      "Epoch 97/220\n",
      "36173/36173 [==============================] - 0s 9us/step - loss: 0.4856 - accuracy: 0.8106\n",
      "Epoch 98/220\n",
      "36173/36173 [==============================] - 0s 10us/step - loss: 0.4855 - accuracy: 0.8106\n",
      "Epoch 99/220\n",
      "36173/36173 [==============================] - 0s 10us/step - loss: 0.4855 - accuracy: 0.8106\n",
      "Epoch 100/220\n",
      "36173/36173 [==============================] - 0s 10us/step - loss: 0.4855 - accuracy: 0.8106\n",
      "Epoch 101/220\n",
      "36173/36173 [==============================] - 0s 10us/step - loss: 0.4855 - accuracy: 0.8106\n",
      "Epoch 102/220\n",
      "36173/36173 [==============================] - 0s 13us/step - loss: 0.4855 - accuracy: 0.8106\n",
      "Epoch 103/220\n",
      "36173/36173 [==============================] - 0s 10us/step - loss: 0.4855 - accuracy: 0.8106\n",
      "Epoch 104/220\n",
      "36173/36173 [==============================] - 0s 12us/step - loss: 0.4855 - accuracy: 0.8106\n",
      "Epoch 105/220\n",
      "36173/36173 [==============================] - 0s 12us/step - loss: 0.4855 - accuracy: 0.8106\n",
      "Epoch 106/220\n",
      "36173/36173 [==============================] - 0s 10us/step - loss: 0.4856 - accuracy: 0.8106\n",
      "Epoch 107/220\n",
      "36173/36173 [==============================] - 0s 10us/step - loss: 0.4855 - accuracy: 0.8106\n",
      "Epoch 108/220\n",
      "36173/36173 [==============================] - 0s 10us/step - loss: 0.4855 - accuracy: 0.8106\n",
      "Epoch 109/220\n",
      "36173/36173 [==============================] - 0s 10us/step - loss: 0.4855 - accuracy: 0.8106\n",
      "Epoch 110/220\n",
      "36173/36173 [==============================] - 0s 10us/step - loss: 0.4855 - accuracy: 0.8106\n",
      "Epoch 111/220\n",
      "36173/36173 [==============================] - 0s 10us/step - loss: 0.4855 - accuracy: 0.8106\n",
      "Epoch 112/220\n",
      "36173/36173 [==============================] - 0s 9us/step - loss: 0.4854 - accuracy: 0.8106\n",
      "Epoch 113/220\n",
      "36173/36173 [==============================] - 0s 10us/step - loss: 0.4856 - accuracy: 0.8106\n",
      "Epoch 114/220\n",
      "36173/36173 [==============================] - 0s 10us/step - loss: 0.4854 - accuracy: 0.8106\n",
      "Epoch 115/220\n",
      "36173/36173 [==============================] - 0s 10us/step - loss: 0.4855 - accuracy: 0.8106\n",
      "Epoch 116/220\n",
      "36173/36173 [==============================] - 0s 11us/step - loss: 0.4855 - accuracy: 0.8106\n",
      "Epoch 117/220\n",
      "36173/36173 [==============================] - 0s 10us/step - loss: 0.4855 - accuracy: 0.8106\n",
      "Epoch 118/220\n",
      "36173/36173 [==============================] - 0s 10us/step - loss: 0.4855 - accuracy: 0.8106\n",
      "Epoch 119/220\n",
      "36173/36173 [==============================] - 0s 10us/step - loss: 0.4854 - accuracy: 0.8106\n",
      "Epoch 120/220\n",
      "36173/36173 [==============================] - 0s 10us/step - loss: 0.4855 - accuracy: 0.8106\n",
      "Epoch 121/220\n",
      "36173/36173 [==============================] - 0s 10us/step - loss: 0.4856 - accuracy: 0.8106\n",
      "Epoch 122/220\n",
      "36173/36173 [==============================] - 0s 10us/step - loss: 0.4855 - accuracy: 0.8106\n",
      "Epoch 123/220\n",
      "36173/36173 [==============================] - 0s 10us/step - loss: 0.4855 - accuracy: 0.8106\n",
      "Epoch 124/220\n",
      "36173/36173 [==============================] - 0s 10us/step - loss: 0.4856 - accuracy: 0.8106\n",
      "Epoch 125/220\n",
      "36173/36173 [==============================] - 0s 10us/step - loss: 0.4854 - accuracy: 0.8106\n",
      "Epoch 126/220\n",
      "36173/36173 [==============================] - 0s 9us/step - loss: 0.4855 - accuracy: 0.8106\n",
      "Epoch 127/220\n",
      "36173/36173 [==============================] - 0s 10us/step - loss: 0.4856 - accuracy: 0.8106\n",
      "Epoch 128/220\n",
      "36173/36173 [==============================] - 0s 10us/step - loss: 0.4855 - accuracy: 0.8106\n",
      "Epoch 129/220\n",
      "36173/36173 [==============================] - 0s 10us/step - loss: 0.4855 - accuracy: 0.8106\n",
      "Epoch 130/220\n",
      "36173/36173 [==============================] - 0s 10us/step - loss: 0.4856 - accuracy: 0.8106\n",
      "Epoch 131/220\n",
      "36173/36173 [==============================] - 0s 10us/step - loss: 0.4855 - accuracy: 0.8106\n",
      "Epoch 132/220\n",
      "36173/36173 [==============================] - 0s 10us/step - loss: 0.4855 - accuracy: 0.8106\n",
      "Epoch 133/220\n",
      "36173/36173 [==============================] - 0s 10us/step - loss: 0.4855 - accuracy: 0.8106\n",
      "Epoch 134/220\n",
      "36173/36173 [==============================] - 0s 10us/step - loss: 0.4856 - accuracy: 0.8106\n",
      "Epoch 135/220\n",
      "36173/36173 [==============================] - 0s 10us/step - loss: 0.4855 - accuracy: 0.8106\n",
      "Epoch 136/220\n",
      "36173/36173 [==============================] - 0s 10us/step - loss: 0.4855 - accuracy: 0.8106\n",
      "Epoch 137/220\n",
      "36173/36173 [==============================] - 0s 10us/step - loss: 0.4855 - accuracy: 0.8106\n",
      "Epoch 138/220\n",
      "36173/36173 [==============================] - 0s 10us/step - loss: 0.4855 - accuracy: 0.8106\n",
      "Epoch 139/220\n",
      "36173/36173 [==============================] - 0s 11us/step - loss: 0.4855 - accuracy: 0.8106\n",
      "Epoch 140/220\n",
      "36173/36173 [==============================] - 0s 10us/step - loss: 0.4854 - accuracy: 0.8106\n",
      "Epoch 141/220\n",
      "36173/36173 [==============================] - 0s 10us/step - loss: 0.4855 - accuracy: 0.8106\n",
      "Epoch 142/220\n",
      "36173/36173 [==============================] - 0s 10us/step - loss: 0.4855 - accuracy: 0.8106\n",
      "Epoch 143/220\n",
      "36173/36173 [==============================] - 0s 10us/step - loss: 0.4855 - accuracy: 0.8106\n",
      "Epoch 144/220\n",
      "36173/36173 [==============================] - 0s 10us/step - loss: 0.4855 - accuracy: 0.8106\n",
      "Epoch 145/220\n",
      "36173/36173 [==============================] - 0s 10us/step - loss: 0.4856 - accuracy: 0.8106\n",
      "Epoch 146/220\n",
      "36173/36173 [==============================] - 0s 10us/step - loss: 0.4855 - accuracy: 0.8106\n",
      "Epoch 147/220\n",
      "36173/36173 [==============================] - 0s 10us/step - loss: 0.4854 - accuracy: 0.8106\n",
      "Epoch 148/220\n",
      "36173/36173 [==============================] - 0s 10us/step - loss: 0.4855 - accuracy: 0.8106\n",
      "Epoch 149/220\n",
      "36173/36173 [==============================] - 0s 10us/step - loss: 0.4855 - accuracy: 0.8106\n",
      "Epoch 150/220\n",
      "36173/36173 [==============================] - 0s 10us/step - loss: 0.4854 - accuracy: 0.8106\n",
      "Epoch 151/220\n",
      "36173/36173 [==============================] - 0s 10us/step - loss: 0.4855 - accuracy: 0.8106\n",
      "Epoch 152/220\n",
      "36173/36173 [==============================] - 0s 10us/step - loss: 0.4855 - accuracy: 0.8106\n",
      "Epoch 153/220\n",
      "36173/36173 [==============================] - 0s 10us/step - loss: 0.4855 - accuracy: 0.8106\n",
      "Epoch 154/220\n"
     ]
    },
    {
     "name": "stdout",
     "output_type": "stream",
     "text": [
      "36173/36173 [==============================] - 0s 9us/step - loss: 0.4855 - accuracy: 0.8106\n",
      "Epoch 155/220\n",
      "36173/36173 [==============================] - 0s 9us/step - loss: 0.4855 - accuracy: 0.8106\n",
      "Epoch 156/220\n",
      "36173/36173 [==============================] - 0s 9us/step - loss: 0.4854 - accuracy: 0.8106\n",
      "Epoch 157/220\n",
      "36173/36173 [==============================] - 0s 9us/step - loss: 0.4855 - accuracy: 0.8106\n",
      "Epoch 158/220\n",
      "36173/36173 [==============================] - 0s 9us/step - loss: 0.4855 - accuracy: 0.8106\n",
      "Epoch 159/220\n",
      "36173/36173 [==============================] - 0s 9us/step - loss: 0.4855 - accuracy: 0.8106\n",
      "Epoch 160/220\n",
      "36173/36173 [==============================] - 0s 9us/step - loss: 0.4855 - accuracy: 0.8106\n",
      "Epoch 161/220\n",
      "36173/36173 [==============================] - 0s 9us/step - loss: 0.4855 - accuracy: 0.8106\n",
      "Epoch 162/220\n",
      "36173/36173 [==============================] - 0s 9us/step - loss: 0.4854 - accuracy: 0.8106\n",
      "Epoch 163/220\n",
      "36173/36173 [==============================] - 0s 9us/step - loss: 0.4854 - accuracy: 0.8106\n",
      "Epoch 164/220\n",
      "36173/36173 [==============================] - 0s 10us/step - loss: 0.4855 - accuracy: 0.8106\n",
      "Epoch 165/220\n",
      "36173/36173 [==============================] - 0s 9us/step - loss: 0.4855 - accuracy: 0.8106\n",
      "Epoch 166/220\n",
      "36173/36173 [==============================] - 0s 9us/step - loss: 0.4855 - accuracy: 0.8106\n",
      "Epoch 167/220\n",
      "36173/36173 [==============================] - 0s 9us/step - loss: 0.4855 - accuracy: 0.8106\n",
      "Epoch 168/220\n",
      "36173/36173 [==============================] - 0s 9us/step - loss: 0.4853 - accuracy: 0.8106\n",
      "Epoch 169/220\n",
      "36173/36173 [==============================] - 0s 9us/step - loss: 0.4855 - accuracy: 0.8106\n",
      "Epoch 170/220\n",
      "36173/36173 [==============================] - 0s 9us/step - loss: 0.4855 - accuracy: 0.8106\n",
      "Epoch 171/220\n",
      "36173/36173 [==============================] - 0s 9us/step - loss: 0.4855 - accuracy: 0.8106\n",
      "Epoch 172/220\n",
      "36173/36173 [==============================] - 0s 9us/step - loss: 0.4854 - accuracy: 0.8106\n",
      "Epoch 173/220\n",
      "36173/36173 [==============================] - 0s 9us/step - loss: 0.4855 - accuracy: 0.8106\n",
      "Epoch 174/220\n",
      "36173/36173 [==============================] - 0s 9us/step - loss: 0.4856 - accuracy: 0.8106\n",
      "Epoch 175/220\n",
      "36173/36173 [==============================] - 0s 9us/step - loss: 0.4854 - accuracy: 0.8106\n",
      "Epoch 176/220\n",
      "36173/36173 [==============================] - 0s 9us/step - loss: 0.4855 - accuracy: 0.8106\n",
      "Epoch 177/220\n",
      "36173/36173 [==============================] - 0s 9us/step - loss: 0.4856 - accuracy: 0.8106\n",
      "Epoch 178/220\n",
      "36173/36173 [==============================] - 0s 9us/step - loss: 0.4855 - accuracy: 0.8106\n",
      "Epoch 179/220\n",
      "36173/36173 [==============================] - 0s 9us/step - loss: 0.4855 - accuracy: 0.8106\n",
      "Epoch 180/220\n",
      "36173/36173 [==============================] - 0s 9us/step - loss: 0.4855 - accuracy: 0.8106\n",
      "Epoch 181/220\n",
      "36173/36173 [==============================] - 0s 9us/step - loss: 0.4855 - accuracy: 0.8106\n",
      "Epoch 182/220\n",
      "36173/36173 [==============================] - 0s 11us/step - loss: 0.4855 - accuracy: 0.8106\n",
      "Epoch 183/220\n",
      "36173/36173 [==============================] - 0s 9us/step - loss: 0.4855 - accuracy: 0.8106\n",
      "Epoch 184/220\n",
      "36173/36173 [==============================] - 0s 9us/step - loss: 0.4855 - accuracy: 0.8106\n",
      "Epoch 185/220\n",
      "36173/36173 [==============================] - 0s 9us/step - loss: 0.4855 - accuracy: 0.8106\n",
      "Epoch 186/220\n",
      "36173/36173 [==============================] - 0s 9us/step - loss: 0.4855 - accuracy: 0.8106\n",
      "Epoch 187/220\n",
      "36173/36173 [==============================] - 0s 9us/step - loss: 0.4855 - accuracy: 0.8106\n",
      "Epoch 188/220\n",
      "36173/36173 [==============================] - 0s 9us/step - loss: 0.4855 - accuracy: 0.8106\n",
      "Epoch 189/220\n",
      "36173/36173 [==============================] - 0s 9us/step - loss: 0.4855 - accuracy: 0.8106\n",
      "Epoch 190/220\n",
      "36173/36173 [==============================] - 0s 9us/step - loss: 0.4855 - accuracy: 0.8106\n",
      "Epoch 191/220\n",
      "36173/36173 [==============================] - 0s 10us/step - loss: 0.4854 - accuracy: 0.8106\n",
      "Epoch 192/220\n",
      "36173/36173 [==============================] - 0s 9us/step - loss: 0.4855 - accuracy: 0.8106\n",
      "Epoch 193/220\n",
      "36173/36173 [==============================] - 0s 9us/step - loss: 0.4855 - accuracy: 0.8106\n",
      "Epoch 194/220\n",
      "36173/36173 [==============================] - 0s 10us/step - loss: 0.4855 - accuracy: 0.8106\n",
      "Epoch 195/220\n",
      "36173/36173 [==============================] - 0s 9us/step - loss: 0.4855 - accuracy: 0.8106\n",
      "Epoch 196/220\n",
      "36173/36173 [==============================] - 0s 9us/step - loss: 0.4855 - accuracy: 0.8106\n",
      "Epoch 197/220\n",
      "36173/36173 [==============================] - 0s 10us/step - loss: 0.4855 - accuracy: 0.8106\n",
      "Epoch 198/220\n",
      "36173/36173 [==============================] - 0s 9us/step - loss: 0.4854 - accuracy: 0.8106\n",
      "Epoch 199/220\n",
      "36173/36173 [==============================] - 0s 9us/step - loss: 0.4855 - accuracy: 0.8106\n",
      "Epoch 200/220\n",
      "36173/36173 [==============================] - 0s 9us/step - loss: 0.4855 - accuracy: 0.8106\n",
      "Epoch 201/220\n",
      "36173/36173 [==============================] - 0s 9us/step - loss: 0.4855 - accuracy: 0.8106\n",
      "Epoch 202/220\n",
      "36173/36173 [==============================] - 0s 9us/step - loss: 0.4856 - accuracy: 0.8106\n",
      "Epoch 203/220\n",
      "36173/36173 [==============================] - 0s 10us/step - loss: 0.4855 - accuracy: 0.8106\n",
      "Epoch 204/220\n",
      "36173/36173 [==============================] - 0s 9us/step - loss: 0.4855 - accuracy: 0.8106\n",
      "Epoch 205/220\n",
      "36173/36173 [==============================] - 0s 9us/step - loss: 0.4854 - accuracy: 0.8106\n",
      "Epoch 206/220\n",
      "36173/36173 [==============================] - 0s 9us/step - loss: 0.4854 - accuracy: 0.8106\n",
      "Epoch 207/220\n",
      "36173/36173 [==============================] - 0s 9us/step - loss: 0.4855 - accuracy: 0.8106\n",
      "Epoch 208/220\n",
      "36173/36173 [==============================] - 0s 9us/step - loss: 0.4855 - accuracy: 0.8106\n",
      "Epoch 209/220\n",
      "36173/36173 [==============================] - 0s 9us/step - loss: 0.4855 - accuracy: 0.8106\n",
      "Epoch 210/220\n",
      "36173/36173 [==============================] - 0s 9us/step - loss: 0.4854 - accuracy: 0.8106\n",
      "Epoch 211/220\n",
      "36173/36173 [==============================] - 0s 9us/step - loss: 0.4855 - accuracy: 0.8106\n",
      "Epoch 212/220\n",
      "36173/36173 [==============================] - 0s 9us/step - loss: 0.4854 - accuracy: 0.8106\n",
      "Epoch 213/220\n",
      "36173/36173 [==============================] - 0s 9us/step - loss: 0.4855 - accuracy: 0.8106\n",
      "Epoch 214/220\n",
      "36173/36173 [==============================] - 0s 10us/step - loss: 0.4855 - accuracy: 0.8106\n",
      "Epoch 215/220\n",
      "36173/36173 [==============================] - 0s 9us/step - loss: 0.4855 - accuracy: 0.8106\n",
      "Epoch 216/220\n",
      "36173/36173 [==============================] - 0s 9us/step - loss: 0.4854 - accuracy: 0.8106\n",
      "Epoch 217/220\n",
      "36173/36173 [==============================] - 0s 9us/step - loss: 0.4855 - accuracy: 0.8106\n",
      "Epoch 218/220\n",
      "36173/36173 [==============================] - 0s 9us/step - loss: 0.4854 - accuracy: 0.8106\n",
      "Epoch 219/220\n",
      "36173/36173 [==============================] - 0s 9us/step - loss: 0.4855 - accuracy: 0.8106\n",
      "Epoch 220/220\n",
      "36173/36173 [==============================] - 0s 10us/step - loss: 0.4855 - accuracy: 0.8106\n"
     ]
    },
    {
     "data": {
      "text/plain": [
       "<keras.callbacks.callbacks.History at 0x7ff81a660550>"
      ]
     },
     "execution_count": 112,
     "metadata": {},
     "output_type": "execute_result"
    }
   ],
   "source": [
    "model.fit(X_train, y_train, epochs= 220, batch_size=200)"
   ]
  },
  {
   "cell_type": "code",
   "execution_count": 113,
   "metadata": {},
   "outputs": [
    {
     "name": "stdout",
     "output_type": "stream",
     "text": [
      "9044/9044 [==============================] - 0s 15us/step\n",
      "accuracy: 79.81%\n"
     ]
    }
   ],
   "source": [
    "performance = model.evaluate(X_test, y_test)\n",
    "print(\"%s: %.2f%%\" % (model.metrics_names[1], performance[1]*100))"
   ]
  },
  {
   "cell_type": "code",
   "execution_count": 175,
   "metadata": {},
   "outputs": [],
   "source": [
    "lr_probs = model.predict(X_test)\n",
    "ns_probs = [0 for _ in range(len(y_test))]"
   ]
  },
  {
   "cell_type": "code",
   "execution_count": 176,
   "metadata": {},
   "outputs": [],
   "source": [
    "from sklearn.metrics import roc_curve\n",
    "from sklearn.metrics import roc_auc_score\n",
    "from matplotlib import pyplot\n",
    "#lr_probs = lr_probs[:, 1]\n",
    "# calculate scores\n",
    "#ns_auc = roc_auc_score(y_test, ns_probs)\n",
    "lr_auc = roc_auc_score(y_test, lr_probs)\n",
    "ns_auc = roc_auc_score(y_test, ns_probs)"
   ]
  },
  {
   "cell_type": "code",
   "execution_count": 177,
   "metadata": {},
   "outputs": [
    {
     "name": "stdout",
     "output_type": "stream",
     "text": [
      "No Skill: ROC AUC=0.500\n",
      "Logistic: ROC AUC=0.563\n"
     ]
    }
   ],
   "source": [
    "print('No Skill: ROC AUC=%.3f' % (ns_auc))\n",
    "print('Logistic: ROC AUC=%.3f' % (lr_auc))"
   ]
  },
  {
   "cell_type": "code",
   "execution_count": 178,
   "metadata": {},
   "outputs": [],
   "source": [
    "ns_fpr, ns_tpr, _ = roc_curve(y_test, ns_probs)\n",
    "lr_fpr, lr_tpr, _ = roc_curve(y_test, lr_probs)"
   ]
  },
  {
   "cell_type": "code",
   "execution_count": 179,
   "metadata": {},
   "outputs": [
    {
     "data": {
      "image/png": "[encoded data removed]",
      "text/plain": [
       "<Figure size 432x288 with 1 Axes>"
      ]
     },
     "metadata": {
      "needs_background": "light"
     },
     "output_type": "display_data"
    }
   ],
   "source": [
    "pyplot.plot(ns_fpr, ns_tpr, linestyle='--', label='No Skill')\n",
    "pyplot.plot(lr_fpr, lr_tpr, marker='.', label='Logistic', color = 'olive')\n",
    "pyplot.xlabel('False Positive Rate')\n",
    "pyplot.ylabel('True Positive Rate')\n",
    "# show the legend\n",
    "pyplot.legend()\n",
    "# show the plot\n",
    "pyplot.show()"
   ]
  },
  {
   "cell_type": "code",
   "execution_count": 142,
   "metadata": {},
   "outputs": [],
   "source": [
    "from sklearn.metrics import precision_recall_curve\n",
    "from sklearn.metrics import f1_score\n",
    "from sklearn.metrics import auc\n",
    "from matplotlib import pyplot\n",
    "from sklearn.datasets import make_classification"
   ]
  },
  {
   "cell_type": "code",
   "execution_count": 136,
   "metadata": {},
   "outputs": [
    {
     "data": {
      "image/png": "[encoded data removed]",
      "text/plain": [
       "<Figure size 432x288 with 1 Axes>"
      ]
     },
     "metadata": {
      "needs_background": "light"
     },
     "output_type": "display_data"
    }
   ],
   "source": [
    "#lr_probs = elastic.predict_proba(X_test)\n",
    "# keep probabilities for the positive outcome only\n",
    "#lr_probs = lr_probs[:, 1]\n",
    "# predict class values\n",
    "yhat = model.predict(X_test)\n",
    "lr_precision, lr_recall, _ = precision_recall_curve(y_test, lr_probs)\n",
    "#lr_f1, lr_auc = f1_score(y_test, yhat), auc(lr_recall, lr_precision)\n",
    "# summarize scores\n",
    "#print('Logistic: f1=%.3f auc=%.3f' % (lr_f1, lr_auc))\n",
    "# plot the precision-recall curves\n",
    "no_skill = len(y_test[y_test==1]) / len(y_test)\n",
    "pyplot.plot([0, 1], [no_skill, no_skill], linestyle='--', label='No Skill')\n",
    "pyplot.plot(lr_recall, lr_precision, marker='.', label='Logistic', color = 'olive')\n",
    "# axis labels\n",
    "pyplot.xlabel('Recall')\n",
    "pyplot.ylabel('Precision')\n",
    "# show the legend\n",
    "pyplot.legend()\n",
    "# show the plot\n",
    "pyplot.show()"
   ]
  }
 ],
 "metadata": {
  "kernelspec": {
   "display_name": "Python 3",
   "language": "python",
   "name": "python3"
  },
  "language_info": {
   "codemirror_mode": {
    "name": "ipython",
    "version": 3
   },
   "file_extension": ".py",
   "mimetype": "text/x-python",
   "name": "python",
   "nbconvert_exporter": "python",
   "pygments_lexer": "ipython3",
   "version": "3.7.6"
  }
 },
 "nbformat": 4,
 "nbformat_minor": 2
}
